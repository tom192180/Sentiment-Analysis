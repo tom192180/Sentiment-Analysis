{
  "cells": [
    {
      "cell_type": "code",
      "execution_count": 1,
      "source": [
        "import pandas as pd\n",
        "import numpy as np\n",
        "from csv import reader\n",
        "import tensorflow as tf\n",
        "from tensorflow import keras\n",
        "from tqdm import tqdm\n",
        "import gensim\n",
        "\n"
      ],
      "outputs": [],
      "metadata": {
        "id": "UHIulUGpvuh2"
      }
    },
    {
      "cell_type": "code",
      "source": [
        "# Import files from drive\n",
        "from google.colab import drive\n",
        "drive.mount('/content/drive', force_remount=True)"
      ],
      "metadata": {
        "colab": {
          "base_uri": "https://localhost:8080/"
        },
        "id": "lah30IvAw9Jy",
        "outputId": "cf5035b2-44f5-4433-a382-b90be4d689c9"
      },
      "execution_count": 2,
      "outputs": [
        {
          "output_type": "stream",
          "name": "stdout",
          "text": [
            "Mounted at /content/drive\n"
          ]
        }
      ]
    },
    {
      "cell_type": "markdown",
      "source": [
        "# 1. Combine all data files into one dataframe"
      ],
      "metadata": {
        "id": "EEoS_yeMvuh6"
      }
    },
    {
      "cell_type": "code",
      "execution_count": 3,
      "source": [
        "\n",
        "# tmply skip sarcasm 'twitter-2014sarcasm-A.tsv'\n",
        "\n",
        "name_lst = ['twitter-2013dev-A.tsv', 'twitter-2013test-A.tsv', \n",
        "            'twitter-2013train-A.tsv', 'twitter-2014sarcasm-A.tsv',\n",
        "            'twitter-2014test-A.tsv', 'twitter-2015test-A.tsv',\n",
        "            'twitter-2015train-A.tsv', 'twitter-2016dev-A.tsv',\n",
        "            'twitter-2016devtest-A.tsv','twitter-2016test-A.tsv', \n",
        "            'twitter-2016train-A.tsv']\n",
        "\n",
        "\n",
        "\n",
        "data_array = []\n",
        "\n",
        "tot_tweet = 0\n",
        "for i in range(len(name_lst)):\n",
        "    with open('/content/drive/My Drive/TM/'+ name_lst[i], 'r') as file:\n",
        "        tmp = reader(file, delimiter=\"\\t\")\n",
        "        if name_lst[i] == 'twitter-2016test-A.tsv':\n",
        "            for row in tmp:\n",
        "                data_array.append(row[:3])\n",
        "        else:\n",
        "            for row in tmp:\n",
        "                data_array.append(row)\n",
        "data_array = np.array(data_array)"
      ],
      "outputs": [],
      "metadata": {
        "id": "p0eIPNz0vuh7"
      }
    },
    {
      "cell_type": "markdown",
      "source": [
        "## Adjust weird symbols in setences "
      ],
      "metadata": {
        "id": "85RXVn7dffYf"
      }
    },
    {
      "cell_type": "code",
      "execution_count": 4,
      "source": [
        "# Convert unicode to string in python such as comma with unit code of \\\\u002c \n",
        "import html\n",
        "for i in range(len(data_array)):\n",
        "    try:\n",
        "        data_array[i,2] = html.unescape(data_array[i,2])\n",
        "    except:\n",
        "        print(i)\n",
        "        \n",
        "for i in range(len(data_array)):\n",
        "    try:\n",
        "        data_array[i,2] = bytes(data_array[i,2], 'utf-8').decode('unicode-escape')\n",
        "    except:\n",
        "        print(i)\n",
        "\n"
      ],
      "outputs": [
        {
          "output_type": "stream",
          "name": "stderr",
          "text": [
            "/usr/local/lib/python3.7/dist-packages/ipykernel_launcher.py:11: DeprecationWarning: invalid escape sequence '\\ '\n",
            "  # This is added back by InteractiveShellApp.init_path()\n",
            "/usr/local/lib/python3.7/dist-packages/ipykernel_launcher.py:11: DeprecationWarning: invalid escape sequence '\\m'\n",
            "  # This is added back by InteractiveShellApp.init_path()\n",
            "/usr/local/lib/python3.7/dist-packages/ipykernel_launcher.py:11: DeprecationWarning: invalid escape sequence '\\i'\n",
            "  # This is added back by InteractiveShellApp.init_path()\n",
            "/usr/local/lib/python3.7/dist-packages/ipykernel_launcher.py:11: DeprecationWarning: invalid escape sequence '\\('\n",
            "  # This is added back by InteractiveShellApp.init_path()\n",
            "/usr/local/lib/python3.7/dist-packages/ipykernel_launcher.py:11: DeprecationWarning: invalid escape sequence '\\o'\n",
            "  # This is added back by InteractiveShellApp.init_path()\n",
            "/usr/local/lib/python3.7/dist-packages/ipykernel_launcher.py:11: DeprecationWarning: invalid escape sequence '\\_'\n",
            "  # This is added back by InteractiveShellApp.init_path()\n",
            "/usr/local/lib/python3.7/dist-packages/ipykernel_launcher.py:11: DeprecationWarning: invalid escape sequence '\\/'\n",
            "  # This is added back by InteractiveShellApp.init_path()\n"
          ]
        },
        {
          "output_type": "stream",
          "name": "stdout",
          "text": [
            "22004\n",
            "23136\n",
            "25280\n"
          ]
        },
        {
          "output_type": "stream",
          "name": "stderr",
          "text": [
            "/usr/local/lib/python3.7/dist-packages/ipykernel_launcher.py:11: DeprecationWarning: invalid escape sequence '\\,'\n",
            "  # This is added back by InteractiveShellApp.init_path()\n",
            "/usr/local/lib/python3.7/dist-packages/ipykernel_launcher.py:11: DeprecationWarning: invalid escape sequence '\\l'\n",
            "  # This is added back by InteractiveShellApp.init_path()\n"
          ]
        }
      ],
      "metadata": {
        "id": "UPKKA1lPvuh8",
        "outputId": "f5607d46-de76-43fe-ba4a-2d109ce4ffca",
        "colab": {
          "base_uri": "https://localhost:8080/"
        }
      }
    },
    {
      "cell_type": "code",
      "source": [
        "data_array_final = []\n",
        "\n",
        "for i in tqdm(range(len(data_array))):\n",
        "  id = data_array[i][0]\n",
        "  attitude = data_array[i][1]\n",
        "  tweet = data_array[i][2]\n",
        "  check = tweet.split(\"\\n\")\n",
        "  if len(check) > 1:\n",
        "    print(\"hey it happens\")\n",
        "    tweet = check[0]\n",
        "    data_array_final.append([id,attitude,tweet])\n",
        "    for element in check[1:]:\n",
        "      a_row = element.split(\"\\t\")\n",
        "      data_array_final.append(a_row)\n",
        "      if len(a_row) !=3:\n",
        "        print(\"something goes wrong\", a_row)\n",
        "  else:\n",
        "    data_array_final.append([id,attitude,tweet])\n",
        "  \n",
        "\n",
        "data_array_final = np.array(data_array_final)\n"
      ],
      "metadata": {
        "colab": {
          "base_uri": "https://localhost:8080/"
        },
        "id": "Y3BktCDLP5_h",
        "outputId": "02e56f6a-c7c3-4d27-e4d3-9eda11ea180a"
      },
      "execution_count": 5,
      "outputs": [
        {
          "output_type": "stream",
          "name": "stderr",
          "text": [
            " 35%|███▍      | 17416/50132 [00:01<00:02, 15585.26it/s]"
          ]
        },
        {
          "output_type": "stream",
          "name": "stdout",
          "text": [
            "hey it happens\n",
            "hey it happens\n",
            "hey it happens\n",
            "hey it happens\n",
            "hey it happens\n",
            "hey it happens\n",
            "hey it happens\n",
            "hey it happens\n",
            "hey it happens\n",
            "hey it happens\n",
            "hey it happens\n",
            "hey it happens\n",
            "hey it happens\n",
            "hey it happens\n",
            "hey it happens\n",
            "hey it happens\n",
            "hey it happens\n",
            "hey it happens\n",
            "hey it happens\n",
            "hey it happens\n",
            "hey it happens\n",
            "hey it happens\n",
            "hey it happens\n",
            "hey it happens\n",
            "hey it happens\n",
            "hey it happens\n",
            "hey it happens\n",
            "hey it happens\n",
            "hey it happens\n",
            "hey it happens\n",
            "hey it happens\n",
            "hey it happens\n",
            "hey it happens\n",
            "hey it happens\n",
            "hey it happens\n",
            "hey it happens\n",
            "hey it happens\n"
          ]
        },
        {
          "output_type": "stream",
          "name": "stderr",
          "text": [
            " 49%|████▉     | 24462/50132 [00:01<00:01, 17139.75it/s]"
          ]
        },
        {
          "output_type": "stream",
          "name": "stdout",
          "text": [
            "hey it happens\n"
          ]
        },
        {
          "output_type": "stream",
          "name": "stderr",
          "text": [
            " 94%|█████████▍| 47356/50132 [00:02<00:00, 17588.92it/s]"
          ]
        },
        {
          "output_type": "stream",
          "name": "stdout",
          "text": [
            "hey it happens\n",
            "hey it happens\n",
            "hey it happens\n",
            "hey it happens\n",
            "hey it happens\n"
          ]
        },
        {
          "output_type": "stream",
          "name": "stderr",
          "text": [
            "100%|██████████| 50132/50132 [00:03<00:00, 16445.65it/s]\n"
          ]
        }
      ]
    },
    {
      "cell_type": "code",
      "source": [
        "len(data_array_final)"
      ],
      "metadata": {
        "colab": {
          "base_uri": "https://localhost:8080/"
        },
        "id": "KymWejkcS7Wb",
        "outputId": "ade577e3-f738-4056-e9d3-463a5116cd34"
      },
      "execution_count": 6,
      "outputs": [
        {
          "output_type": "execute_result",
          "data": {
            "text/plain": [
              "50334"
            ]
          },
          "metadata": {},
          "execution_count": 6
        }
      ]
    },
    {
      "cell_type": "markdown",
      "source": [
        "# LSTM"
      ],
      "metadata": {
        "id": "ZufX3z1e7Rpt"
      }
    },
    {
      "cell_type": "markdown",
      "source": [
        "## Word Embeddings As Input (Usig word2vec)"
      ],
      "metadata": {
        "id": "MeHYjnJC2PvO"
      }
    },
    {
      "cell_type": "markdown",
      "source": [
        "### Loading dataset for Model 1 to Model 4\n"
      ],
      "metadata": {
        "id": "gbKhr3xl5iPb"
      }
    },
    {
      "cell_type": "markdown",
      "source": [
        "### Tokenization"
      ],
      "metadata": {
        "id": "F298eEkB5y1Q"
      }
    },
    {
      "cell_type": "code",
      "source": [
        "import spacy\n",
        "nlp = spacy.load(\"en_core_web_sm\")\n",
        "\n",
        "\n",
        "nlp.Defaults.stop_words -= {\"neither\",\"not\",\"no\",\"n't\",\"nor\",\"can't\",\"yet\",\"least\"}\n",
        "\n",
        "# Process the text\n",
        "sentences = data_array_final[:,2]\n",
        "sentence_tokenize = []\n",
        "uq_words = set()\n",
        "\n",
        "for a_sen in tqdm(sentences):\n",
        "  a_sen = str(a_sen).lower()\n",
        "    \n",
        "# transform all words into lowercase\n",
        "\n",
        "  doc = nlp(a_sen)\n",
        "  tmp = []\n",
        "  for token in doc:\n",
        "    if token.like_url:\n",
        "      tmp.append(\"URL\")\n",
        "    elif token.is_punct:\n",
        "      continue\n",
        "    elif token.text[0] == \"@\":\n",
        "      continue\n",
        "    elif token.is_stop:\n",
        "      continue \n",
        "    else:\n",
        "      tmp.append(token.lemma_)\n",
        "      uq_words.add(token.lemma_)\n",
        "  sentence_tokenize.append(tmp)\n",
        "\n"
      ],
      "metadata": {
        "colab": {
          "base_uri": "https://localhost:8080/"
        },
        "outputId": "c3c2cd23-bb4a-4c2a-d86f-64086710b431",
        "id": "ut4jpuS55y1Q"
      },
      "execution_count": null,
      "outputs": [
        {
          "output_type": "stream",
          "name": "stderr",
          "text": [
            "100%|██████████| 50334/50334 [07:35<00:00, 110.47it/s]\n"
          ]
        }
      ]
    },
    {
      "cell_type": "code",
      "source": [
        "import pickle\n",
        "\n",
        "\n",
        "with open('tokenized_sens.pickle', 'wb') as handle:\n",
        "    pickle.dump(sentence_tokenize, handle)\n",
        "\n",
        "#with open('filename.pickle', 'rb') as handle:\n",
        "    #b = pickle.load(handle)\n",
        "\n"
      ],
      "metadata": {
        "id": "be7pSTdE5y1Q"
      },
      "execution_count": null,
      "outputs": []
    },
    {
      "cell_type": "markdown",
      "source": [
        "### Word2vector\n",
        "\n",
        "> 縮排段落\n",
        "\n"
      ],
      "metadata": {
        "id": "B_LlX95q5y1Q"
      }
    },
    {
      "cell_type": "code",
      "source": [
        "from gensim.models import Word2Vec"
      ],
      "metadata": {
        "id": "0khco51g5y1Q"
      },
      "execution_count": null,
      "outputs": []
    },
    {
      "cell_type": "code",
      "source": [
        "dim = 100\n",
        "model = Word2Vec(sentences=sentence_tokenize, size=dim, window=5, min_count =1)\n",
        "model.save(\"word2vec.model\")\n"
      ],
      "metadata": {
        "id": "gqDK_C0U5y1R"
      },
      "execution_count": null,
      "outputs": []
    },
    {
      "cell_type": "markdown",
      "source": [
        "### Transform words into vector representation for the tokenized sentences"
      ],
      "metadata": {
        "id": "peznR07c5y1R"
      }
    },
    {
      "cell_type": "code",
      "source": [
        "sentences_emb = []\n",
        "max_len_sen = 0\n",
        "for a_sen in tqdm(sentence_tokenize):\n",
        "  a_sen_emb = []\n",
        "  if len(a_sen) > max_len_sen:\n",
        "    max_len_sen = len(a_sen)\n",
        "  for word in a_sen:\n",
        "    vec = model.wv[word]\n",
        "    a_sen_emb.append(vec)\n",
        "  sentences_emb.append(a_sen_emb)\n",
        "\n",
        "\n",
        "max_len_sen"
      ],
      "metadata": {
        "colab": {
          "base_uri": "https://localhost:8080/"
        },
        "outputId": "9c3ee66a-f735-4faf-e6af-890c1c1cb674",
        "id": "tZ4NlGlK5y1R"
      },
      "execution_count": null,
      "outputs": [
        {
          "output_type": "stream",
          "name": "stderr",
          "text": [
            "100%|██████████| 50334/50334 [00:00<00:00, 53560.62it/s]\n"
          ]
        },
        {
          "output_type": "execute_result",
          "data": {
            "text/plain": [
              "60"
            ]
          },
          "metadata": {},
          "execution_count": 11
        }
      ]
    },
    {
      "cell_type": "code",
      "source": [
        "import pickle\n",
        "with open('sentences_emb1700.pickle', 'wb') as handle:\n",
        "    pickle.dump(sentences_emb, handle)"
      ],
      "metadata": {
        "id": "uG7KSiwa5y1R"
      },
      "execution_count": null,
      "outputs": []
    },
    {
      "cell_type": "markdown",
      "source": [
        "### X and y (label)"
      ],
      "metadata": {
        "id": "OCbIg1ti5y1R"
      }
    },
    {
      "cell_type": "code",
      "source": [
        "#padding and masking\n",
        "sen_num = len(sentences_emb)\n",
        "sentences_emb_pad = np.full((sen_num, max_len_sen, dim), fill_value= 0,dtype = \"float32\")\n",
        "for s, x in enumerate(sentences_emb):\n",
        "    seq_len = len(x)\n",
        "    sentences_emb_pad[s, 0:seq_len, :] = x\n",
        "\n",
        "\n",
        "\n",
        "\n",
        "X = sentences_emb_pad\n",
        "print(X.shape) #(sentence, sentence_length, word feature)"
      ],
      "metadata": {
        "colab": {
          "base_uri": "https://localhost:8080/"
        },
        "outputId": "da1d6ec3-4cbb-4267-add1-3fecb0b8d592",
        "id": "9LmVLy9-5y1R"
      },
      "execution_count": null,
      "outputs": [
        {
          "output_type": "stream",
          "name": "stdout",
          "text": [
            "(50334, 60, 100)\n"
          ]
        }
      ]
    },
    {
      "cell_type": "code",
      "source": [
        "from sklearn import preprocessing\n",
        "le = preprocessing.LabelEncoder()\n",
        "label = data_array_final[:,1]\n",
        "le.fit(label)\n",
        "y = le.transform(label)\n",
        "print(y[:10])\n",
        "print(list(le.inverse_transform((y[:10]))))"
      ],
      "metadata": {
        "colab": {
          "base_uri": "https://localhost:8080/"
        },
        "outputId": "bf2cfb75-928f-4a99-c790-c086cb2c1fa2",
        "id": "OQH6Zvrs5y1R"
      },
      "execution_count": null,
      "outputs": [
        {
          "output_type": "stream",
          "name": "stdout",
          "text": [
            "[1 1 0 1 1 2 2 1 2 2]\n",
            "['neutral', 'neutral', 'negative', 'neutral', 'neutral', 'positive', 'positive', 'neutral', 'positive', 'positive']\n"
          ]
        }
      ]
    },
    {
      "cell_type": "code",
      "execution_count": null,
      "source": [
        "from sklearn.model_selection import train_test_split\n",
        "X_train, X_test, y_train, y_test = train_test_split(X, y, test_size=0.2, shuffle=True, random_state=123)\n",
        "X_train, X_valid, y_train, y_valid = train_test_split(X_train, y_train, test_size=1/8, shuffle=True, random_state=123)\n",
        "\n"
      ],
      "outputs": [],
      "metadata": {
        "id": "F76sa1885y1S"
      }
    },
    {
      "cell_type": "markdown",
      "source": [
        "### Model 1 "
      ],
      "metadata": {
        "id": "LSPquuUWzU4t"
      }
    },
    {
      "cell_type": "code",
      "source": [
        "\n",
        "from keras.layers import LSTM, Dense, Masking\n",
        "\n",
        "def creat_model(dim = dim):\n",
        "  text2class = tf.keras.Sequential()\n",
        "  text2class.add(Masking(mask_value= 0, input_shape=(max_len_sen, dim)))\n",
        "  text2class.add(LSTM(256, return_sequences=True))\n",
        "  text2class.add(LSTM(64))\n",
        "  text2class.add(Dense(3, activation='softmax'))\n",
        "  text2class.compile(loss='sparse_categorical_crossentropy', optimizer='adam', metrics=['accuracy'])\n",
        "  text2class.summary()\n",
        "  return text2class"
      ],
      "metadata": {
        "id": "daEzTM-ZCZSb"
      },
      "execution_count": 16,
      "outputs": []
    },
    {
      "cell_type": "code",
      "source": [
        "tf.random.set_seed(123)\n",
        "\n",
        "model = creat_model()\n",
        "\n",
        "early_stopping_cb = tf.keras.callbacks.EarlyStopping(patience=10,restore_best_weights=True)\n",
        "checkpoint_cb = keras.callbacks.ModelCheckpoint(\"model1.h5\",save_best_only=True)\n",
        "history = model.fit(X_train, y_train, validation_data=(X_valid, y_valid),callbacks=[early_stopping_cb,checkpoint_cb], epochs=100, verbose= 1)"
      ],
      "metadata": {
        "colab": {
          "base_uri": "https://localhost:8080/"
        },
        "id": "gIu9NLB1gC84",
        "outputId": "f11af186-9f30-4a13-ac4f-d8b183a5e7ee"
      },
      "execution_count": 17,
      "outputs": [
        {
          "output_type": "stream",
          "name": "stdout",
          "text": [
            "Model: \"sequential\"\n",
            "_________________________________________________________________\n",
            " Layer (type)                Output Shape              Param #   \n",
            "=================================================================\n",
            " masking (Masking)           (None, 60, 100)           0         \n",
            "                                                                 \n",
            " lstm (LSTM)                 (None, 60, 256)           365568    \n",
            "                                                                 \n",
            " lstm_1 (LSTM)               (None, 64)                82176     \n",
            "                                                                 \n",
            " dense (Dense)               (None, 3)                 195       \n",
            "                                                                 \n",
            "=================================================================\n",
            "Total params: 447,939\n",
            "Trainable params: 447,939\n",
            "Non-trainable params: 0\n",
            "_________________________________________________________________\n",
            "Epoch 1/100\n",
            "1102/1102 [==============================] - 25s 15ms/step - loss: 0.9313 - accuracy: 0.5424 - val_loss: 0.9060 - val_accuracy: 0.5624\n",
            "Epoch 2/100\n",
            "1102/1102 [==============================] - 14s 13ms/step - loss: 0.9013 - accuracy: 0.5621 - val_loss: 0.8921 - val_accuracy: 0.5747\n",
            "Epoch 3/100\n",
            "1102/1102 [==============================] - 14s 13ms/step - loss: 0.8911 - accuracy: 0.5665 - val_loss: 0.8722 - val_accuracy: 0.5848\n",
            "Epoch 4/100\n",
            "1102/1102 [==============================] - 14s 13ms/step - loss: 0.8829 - accuracy: 0.5749 - val_loss: 0.8775 - val_accuracy: 0.5733\n",
            "Epoch 5/100\n",
            "1102/1102 [==============================] - 14s 13ms/step - loss: 0.8752 - accuracy: 0.5762 - val_loss: 0.8656 - val_accuracy: 0.5832\n",
            "Epoch 6/100\n",
            "1102/1102 [==============================] - 14s 13ms/step - loss: 0.8653 - accuracy: 0.5829 - val_loss: 0.8814 - val_accuracy: 0.5693\n",
            "Epoch 7/100\n",
            "1102/1102 [==============================] - 14s 13ms/step - loss: 0.8550 - accuracy: 0.5868 - val_loss: 0.8650 - val_accuracy: 0.5846\n",
            "Epoch 8/100\n",
            "1102/1102 [==============================] - 14s 13ms/step - loss: 0.8427 - accuracy: 0.5970 - val_loss: 0.8654 - val_accuracy: 0.5834\n",
            "Epoch 9/100\n",
            "1102/1102 [==============================] - 15s 14ms/step - loss: 0.8284 - accuracy: 0.6023 - val_loss: 0.8564 - val_accuracy: 0.5910\n",
            "Epoch 10/100\n",
            "1102/1102 [==============================] - 15s 14ms/step - loss: 0.8072 - accuracy: 0.6160 - val_loss: 0.8566 - val_accuracy: 0.5886\n",
            "Epoch 11/100\n",
            "1102/1102 [==============================] - 15s 14ms/step - loss: 0.7815 - accuracy: 0.6337 - val_loss: 0.8919 - val_accuracy: 0.5703\n",
            "Epoch 12/100\n",
            "1102/1102 [==============================] - 15s 13ms/step - loss: 0.7443 - accuracy: 0.6543 - val_loss: 0.9151 - val_accuracy: 0.5707\n",
            "Epoch 13/100\n",
            "1102/1102 [==============================] - 14s 13ms/step - loss: 0.6998 - accuracy: 0.6798 - val_loss: 0.9332 - val_accuracy: 0.5703\n",
            "Epoch 14/100\n",
            "1102/1102 [==============================] - 14s 13ms/step - loss: 0.6473 - accuracy: 0.7101 - val_loss: 1.0013 - val_accuracy: 0.5590\n",
            "Epoch 15/100\n",
            "1102/1102 [==============================] - 14s 13ms/step - loss: 0.5883 - accuracy: 0.7389 - val_loss: 1.0800 - val_accuracy: 0.5582\n",
            "Epoch 16/100\n",
            "1102/1102 [==============================] - 15s 13ms/step - loss: 0.5255 - accuracy: 0.7701 - val_loss: 1.1423 - val_accuracy: 0.5507\n",
            "Epoch 17/100\n",
            "1102/1102 [==============================] - 15s 13ms/step - loss: 0.4636 - accuracy: 0.8035 - val_loss: 1.2538 - val_accuracy: 0.5368\n",
            "Epoch 18/100\n",
            "1102/1102 [==============================] - 15s 13ms/step - loss: 0.4025 - accuracy: 0.8346 - val_loss: 1.3667 - val_accuracy: 0.5459\n",
            "Epoch 19/100\n",
            "1102/1102 [==============================] - 14s 13ms/step - loss: 0.3423 - accuracy: 0.8631 - val_loss: 1.5065 - val_accuracy: 0.5326\n"
          ]
        }
      ]
    },
    {
      "cell_type": "code",
      "source": [
        "y_pre = model.predict(X_test)\n",
        "y_pre = np.argmax(y_pre,axis=1)\n",
        "from sklearn.metrics import classification_report\n",
        "report_test = classification_report(y_test,y_pre)\n",
        "print(report_test)"
      ],
      "metadata": {
        "colab": {
          "base_uri": "https://localhost:8080/"
        },
        "id": "wMJJsBApnYXC",
        "outputId": "45b23ee1-b266-4a6a-d8f7-afd6ce6550b8"
      },
      "execution_count": 18,
      "outputs": [
        {
          "output_type": "stream",
          "name": "stdout",
          "text": [
            "              precision    recall  f1-score   support\n",
            "\n",
            "           0       0.43      0.12      0.19      1563\n",
            "           1       0.57      0.73      0.64      4642\n",
            "           2       0.60      0.58      0.59      3862\n",
            "\n",
            "    accuracy                           0.58     10067\n",
            "   macro avg       0.53      0.47      0.47     10067\n",
            "weighted avg       0.56      0.58      0.55     10067\n",
            "\n"
          ]
        }
      ]
    },
    {
      "cell_type": "markdown",
      "source": [
        "### M2 "
      ],
      "metadata": {
        "id": "3PzdHbX-zZgA"
      }
    },
    {
      "cell_type": "code",
      "source": [
        "from keras.layers import LSTM, Dense, Masking\n",
        "\n",
        "def creat_model(dim = dim):\n",
        "  text2class = tf.keras.Sequential()\n",
        "  text2class.add(Masking(mask_value= 0, input_shape=(max_len_sen, dim)))\n",
        "  text2class.add(LSTM(512, return_sequences=True))\n",
        "  text2class.add(LSTM(256, return_sequences=True))\n",
        "  text2class.add(LSTM(64))\n",
        "  text2class.add(Dense(3, activation='softmax'))\n",
        "  text2class.compile(loss='sparse_categorical_crossentropy', optimizer='adam', metrics=['accuracy'])\n",
        "  text2class.summary()\n",
        "  return text2class"
      ],
      "metadata": {
        "id": "-vGoD5_HtjI7"
      },
      "execution_count": 19,
      "outputs": []
    },
    {
      "cell_type": "code",
      "source": [
        "tf.random.set_seed(123)\n",
        "\n",
        "model = creat_model()\n",
        "\n",
        "early_stopping_cb = tf.keras.callbacks.EarlyStopping(patience=10,restore_best_weights=True)\n",
        "checkpoint_cb = keras.callbacks.ModelCheckpoint(\"model2.h5\",save_best_only=True)\n",
        "history = model.fit(X_train, y_train, validation_data=(X_valid, y_valid),callbacks=[early_stopping_cb,checkpoint_cb], epochs=100, verbose= 1)"
      ],
      "metadata": {
        "colab": {
          "base_uri": "https://localhost:8080/"
        },
        "id": "lZICY6MvuZv5",
        "outputId": "eda89cab-da84-4030-e7d9-cb57850d66a7"
      },
      "execution_count": 20,
      "outputs": [
        {
          "output_type": "stream",
          "name": "stdout",
          "text": [
            "Model: \"sequential_1\"\n",
            "_________________________________________________________________\n",
            " Layer (type)                Output Shape              Param #   \n",
            "=================================================================\n",
            " masking_1 (Masking)         (None, 60, 100)           0         \n",
            "                                                                 \n",
            " lstm_2 (LSTM)               (None, 60, 512)           1255424   \n",
            "                                                                 \n",
            " lstm_3 (LSTM)               (None, 60, 256)           787456    \n",
            "                                                                 \n",
            " lstm_4 (LSTM)               (None, 64)                82176     \n",
            "                                                                 \n",
            " dense_1 (Dense)             (None, 3)                 195       \n",
            "                                                                 \n",
            "=================================================================\n",
            "Total params: 2,125,251\n",
            "Trainable params: 2,125,251\n",
            "Non-trainable params: 0\n",
            "_________________________________________________________________\n",
            "Epoch 1/100\n",
            "1102/1102 [==============================] - 37s 24ms/step - loss: 0.9379 - accuracy: 0.5393 - val_loss: 0.9207 - val_accuracy: 0.5493\n",
            "Epoch 2/100\n",
            "1102/1102 [==============================] - 22s 20ms/step - loss: 0.9023 - accuracy: 0.5629 - val_loss: 0.8940 - val_accuracy: 0.5791\n",
            "Epoch 3/100\n",
            "1102/1102 [==============================] - 22s 20ms/step - loss: 0.8893 - accuracy: 0.5672 - val_loss: 0.8708 - val_accuracy: 0.5773\n",
            "Epoch 4/100\n",
            "1102/1102 [==============================] - 22s 20ms/step - loss: 0.8785 - accuracy: 0.5758 - val_loss: 0.8744 - val_accuracy: 0.5729\n",
            "Epoch 5/100\n",
            "1102/1102 [==============================] - 22s 20ms/step - loss: 0.8684 - accuracy: 0.5845 - val_loss: 0.8567 - val_accuracy: 0.5922\n",
            "Epoch 6/100\n",
            "1102/1102 [==============================] - 21s 19ms/step - loss: 0.8572 - accuracy: 0.5906 - val_loss: 0.8772 - val_accuracy: 0.5679\n",
            "Epoch 7/100\n",
            "1102/1102 [==============================] - 21s 19ms/step - loss: 0.8435 - accuracy: 0.5964 - val_loss: 0.8549 - val_accuracy: 0.5916\n",
            "Epoch 8/100\n",
            "1102/1102 [==============================] - 21s 19ms/step - loss: 0.8262 - accuracy: 0.6091 - val_loss: 0.8663 - val_accuracy: 0.5880\n",
            "Epoch 9/100\n",
            "1102/1102 [==============================] - 21s 19ms/step - loss: 0.8023 - accuracy: 0.6223 - val_loss: 0.8587 - val_accuracy: 0.5878\n",
            "Epoch 10/100\n",
            "1102/1102 [==============================] - 21s 19ms/step - loss: 0.7679 - accuracy: 0.6453 - val_loss: 0.8765 - val_accuracy: 0.5896\n",
            "Epoch 11/100\n",
            "1102/1102 [==============================] - 21s 19ms/step - loss: 0.7161 - accuracy: 0.6719 - val_loss: 0.9202 - val_accuracy: 0.5787\n",
            "Epoch 12/100\n",
            "1102/1102 [==============================] - 21s 19ms/step - loss: 0.6426 - accuracy: 0.7123 - val_loss: 1.0148 - val_accuracy: 0.5584\n",
            "Epoch 13/100\n",
            "1102/1102 [==============================] - 21s 19ms/step - loss: 0.5530 - accuracy: 0.7565 - val_loss: 1.1148 - val_accuracy: 0.5544\n",
            "Epoch 14/100\n",
            "1102/1102 [==============================] - 21s 19ms/step - loss: 0.4496 - accuracy: 0.8073 - val_loss: 1.3300 - val_accuracy: 0.5497\n",
            "Epoch 15/100\n",
            "1102/1102 [==============================] - 21s 19ms/step - loss: 0.3536 - accuracy: 0.8523 - val_loss: 1.4981 - val_accuracy: 0.5427\n",
            "Epoch 16/100\n",
            "1102/1102 [==============================] - 21s 19ms/step - loss: 0.2697 - accuracy: 0.8932 - val_loss: 1.7025 - val_accuracy: 0.5377\n",
            "Epoch 17/100\n",
            "1102/1102 [==============================] - 21s 19ms/step - loss: 0.2120 - accuracy: 0.9172 - val_loss: 1.9195 - val_accuracy: 0.5338\n"
          ]
        }
      ]
    },
    {
      "cell_type": "code",
      "source": [
        "y_pre = model.predict(X_test)\n",
        "y_pre = np.argmax(y_pre,axis=1)\n",
        "from sklearn.metrics import classification_report\n",
        "report_test = classification_report(y_test,y_pre)\n",
        "print(report_test)"
      ],
      "metadata": {
        "colab": {
          "base_uri": "https://localhost:8080/"
        },
        "id": "VnLry-Zlufh6",
        "outputId": "f7d38e13-4efc-496a-e8ce-13865b7da3dc"
      },
      "execution_count": 21,
      "outputs": [
        {
          "output_type": "stream",
          "name": "stdout",
          "text": [
            "              precision    recall  f1-score   support\n",
            "\n",
            "           0       0.39      0.18      0.25      1563\n",
            "           1       0.57      0.76      0.65      4642\n",
            "           2       0.65      0.52      0.58      3862\n",
            "\n",
            "    accuracy                           0.58     10067\n",
            "   macro avg       0.53      0.49      0.49     10067\n",
            "weighted avg       0.57      0.58      0.56     10067\n",
            "\n"
          ]
        }
      ]
    },
    {
      "cell_type": "code",
      "source": [
        "import pickle\n",
        "with open('/content/drive/My Drive/TM/tokenized_sens.pickle', 'rb') as handle:\n",
        "    sentences = pickle.load(handle)\n",
        "with open('/content/drive/My Drive/TM/y_new.pickle', 'rb') as handle:\n",
        "    y_new = pickle.load(handle)"
      ],
      "metadata": {
        "id": "DG82SZKRic-i"
      },
      "execution_count": 22,
      "outputs": []
    },
    {
      "cell_type": "code",
      "source": [
        "from gensim.models import Word2Vec\n",
        "dim = 120\n",
        "model = Word2Vec(sentences=sentences, size=dim, window=5, min_count =1)\n"
      ],
      "metadata": {
        "id": "NZ6IEALQj6Lb"
      },
      "execution_count": 23,
      "outputs": []
    },
    {
      "cell_type": "code",
      "source": [
        "sentences_emb = []\n",
        "max_len_sen = 0\n",
        "for a_sen in tqdm(sentences):\n",
        "  a_sen_emb = []\n",
        "  if len(a_sen) > max_len_sen:\n",
        "    max_len_sen = len(a_sen)\n",
        "  for word in a_sen:\n",
        "    vec = model.wv[word]\n",
        "    a_sen_emb.append(vec)\n",
        "  sentences_emb.append(a_sen_emb)\n"
      ],
      "metadata": {
        "colab": {
          "base_uri": "https://localhost:8080/"
        },
        "id": "nDLCNBeEkG5n",
        "outputId": "0e828672-472e-4fb1-8b8c-f3afdd561332"
      },
      "execution_count": 24,
      "outputs": [
        {
          "output_type": "stream",
          "name": "stderr",
          "text": [
            "100%|██████████| 50333/50333 [00:00<00:00, 54071.90it/s]\n"
          ]
        }
      ]
    },
    {
      "cell_type": "code",
      "source": [
        "#padding and masking\n",
        "sen_num = len(sentences_emb)\n",
        "sentences_emb_pad = np.full((sen_num, 60, dim), fill_value= 0,dtype = \"float32\")\n",
        "for s, x in enumerate(sentences_emb):\n",
        "    seq_len = len(x)\n",
        "    sentences_emb_pad[s, 0:seq_len, :] = x\n",
        "\n",
        "\n",
        "\n",
        "\n",
        "X = sentences_emb_pad\n",
        "print(X.shape) #(sentence, sentence_length, word feature)"
      ],
      "metadata": {
        "colab": {
          "base_uri": "https://localhost:8080/"
        },
        "id": "hcV9X9fqkPm0",
        "outputId": "fd3718ef-978b-47fb-a10f-048ac3598903"
      },
      "execution_count": 25,
      "outputs": [
        {
          "output_type": "stream",
          "name": "stdout",
          "text": [
            "(50333, 60, 120)\n"
          ]
        }
      ]
    },
    {
      "cell_type": "code",
      "source": [
        "X = np.asarray(X)\n",
        "y_new = np.asarray(y_new)"
      ],
      "metadata": {
        "id": "uzNz8EJJklNo"
      },
      "execution_count": 26,
      "outputs": []
    },
    {
      "cell_type": "code",
      "source": [
        "from sklearn.model_selection import train_test_split\n",
        "X_train, X_test, y_train, y_test = train_test_split(X, y_new, test_size=0.2, shuffle=True, random_state=123)\n",
        "X_train, X_valid, y_train, y_valid = train_test_split(X_train, y_train, test_size=1/8, shuffle=True, random_state=123)"
      ],
      "metadata": {
        "id": "oA8dIJutkWd5"
      },
      "execution_count": 27,
      "outputs": []
    },
    {
      "cell_type": "markdown",
      "source": [
        "### M3"
      ],
      "metadata": {
        "id": "SWwe8petklZ7"
      }
    },
    {
      "cell_type": "code",
      "source": [
        "\n",
        "from keras.layers import LSTM, Dense, Masking\n",
        "\n",
        "def creat_model(dim = dim):\n",
        "  text2class = tf.keras.Sequential()\n",
        "  text2class.add(Masking(mask_value= 0, input_shape=(max_len_sen, dim)))\n",
        "  text2class.add(LSTM(256, return_sequences=True))\n",
        "  text2class.add(LSTM(64))\n",
        "  text2class.add(Dense(3, activation='softmax'))\n",
        "  text2class.compile(loss='sparse_categorical_crossentropy', optimizer='adam', metrics=['accuracy'])\n",
        "  text2class.summary()\n",
        "  return text2class"
      ],
      "metadata": {
        "id": "Apz3GMmwklZ8"
      },
      "execution_count": 28,
      "outputs": []
    },
    {
      "cell_type": "code",
      "source": [
        "tf.random.set_seed(123)\n",
        "\n",
        "model = creat_model()\n",
        "\n",
        "early_stopping_cb = tf.keras.callbacks.EarlyStopping(patience=10,restore_best_weights=True)\n",
        "checkpoint_cb = keras.callbacks.ModelCheckpoint(\"model1.h5\",save_best_only=True)\n",
        "history = model.fit(X_train, y_train, validation_data=(X_valid, y_valid),callbacks=[early_stopping_cb,checkpoint_cb], epochs=100, verbose= 1)"
      ],
      "metadata": {
        "colab": {
          "base_uri": "https://localhost:8080/"
        },
        "outputId": "a6c74556-0cc1-446b-e98c-3e991dbbdf3b",
        "id": "L3YW87PQklZ8"
      },
      "execution_count": 29,
      "outputs": [
        {
          "output_type": "stream",
          "name": "stdout",
          "text": [
            "Model: \"sequential_2\"\n",
            "_________________________________________________________________\n",
            " Layer (type)                Output Shape              Param #   \n",
            "=================================================================\n",
            " masking_2 (Masking)         (None, 60, 120)           0         \n",
            "                                                                 \n",
            " lstm_5 (LSTM)               (None, 60, 256)           386048    \n",
            "                                                                 \n",
            " lstm_6 (LSTM)               (None, 64)                82176     \n",
            "                                                                 \n",
            " dense_2 (Dense)             (None, 3)                 195       \n",
            "                                                                 \n",
            "=================================================================\n",
            "Total params: 468,419\n",
            "Trainable params: 468,419\n",
            "Non-trainable params: 0\n",
            "_________________________________________________________________\n",
            "Epoch 1/100\n",
            "1101/1101 [==============================] - 18s 12ms/step - loss: 0.9270 - accuracy: 0.5467 - val_loss: 0.8824 - val_accuracy: 0.5810\n",
            "Epoch 2/100\n",
            "1101/1101 [==============================] - 11s 10ms/step - loss: 0.8969 - accuracy: 0.5670 - val_loss: 0.8830 - val_accuracy: 0.5723\n",
            "Epoch 3/100\n",
            "1101/1101 [==============================] - 11s 10ms/step - loss: 0.8850 - accuracy: 0.5741 - val_loss: 0.8628 - val_accuracy: 0.5816\n",
            "Epoch 4/100\n",
            "1101/1101 [==============================] - 11s 10ms/step - loss: 0.8751 - accuracy: 0.5787 - val_loss: 0.8674 - val_accuracy: 0.5757\n",
            "Epoch 5/100\n",
            "1101/1101 [==============================] - 11s 10ms/step - loss: 0.8642 - accuracy: 0.5863 - val_loss: 0.8551 - val_accuracy: 0.5890\n",
            "Epoch 6/100\n",
            "1101/1101 [==============================] - 11s 10ms/step - loss: 0.8515 - accuracy: 0.5968 - val_loss: 0.8507 - val_accuracy: 0.5944\n",
            "Epoch 7/100\n",
            "1101/1101 [==============================] - 11s 10ms/step - loss: 0.8358 - accuracy: 0.6040 - val_loss: 0.8624 - val_accuracy: 0.5848\n",
            "Epoch 8/100\n",
            "1101/1101 [==============================] - 11s 10ms/step - loss: 0.8147 - accuracy: 0.6148 - val_loss: 0.8575 - val_accuracy: 0.5954\n",
            "Epoch 9/100\n",
            "1101/1101 [==============================] - 11s 10ms/step - loss: 0.7874 - accuracy: 0.6289 - val_loss: 0.8748 - val_accuracy: 0.5934\n",
            "Epoch 10/100\n",
            "1101/1101 [==============================] - 11s 10ms/step - loss: 0.7506 - accuracy: 0.6509 - val_loss: 0.9085 - val_accuracy: 0.5874\n",
            "Epoch 11/100\n",
            "1101/1101 [==============================] - 11s 10ms/step - loss: 0.7020 - accuracy: 0.6790 - val_loss: 0.9280 - val_accuracy: 0.5838\n",
            "Epoch 12/100\n",
            "1101/1101 [==============================] - 11s 10ms/step - loss: 0.6430 - accuracy: 0.7100 - val_loss: 1.0281 - val_accuracy: 0.5733\n",
            "Epoch 13/100\n",
            "1101/1101 [==============================] - 11s 10ms/step - loss: 0.5773 - accuracy: 0.7434 - val_loss: 1.0868 - val_accuracy: 0.5709\n",
            "Epoch 14/100\n",
            "1101/1101 [==============================] - 11s 10ms/step - loss: 0.5035 - accuracy: 0.7789 - val_loss: 1.1544 - val_accuracy: 0.5544\n",
            "Epoch 15/100\n",
            "1101/1101 [==============================] - 11s 10ms/step - loss: 0.4357 - accuracy: 0.8134 - val_loss: 1.2510 - val_accuracy: 0.5606\n",
            "Epoch 16/100\n",
            "1101/1101 [==============================] - 11s 10ms/step - loss: 0.3670 - accuracy: 0.8473 - val_loss: 1.3817 - val_accuracy: 0.5592\n"
          ]
        }
      ]
    },
    {
      "cell_type": "code",
      "source": [
        "y_pre = model.predict(X_test)\n",
        "y_pre = np.argmax(y_pre,axis=1)\n",
        "from sklearn.metrics import classification_report\n",
        "report_test = classification_report(y_test,y_pre)\n",
        "print(report_test)"
      ],
      "metadata": {
        "colab": {
          "base_uri": "https://localhost:8080/"
        },
        "outputId": "160813b6-49ba-4211-d65f-4ceb0912bd20",
        "id": "sps3cbJ7klZ8"
      },
      "execution_count": 30,
      "outputs": [
        {
          "output_type": "stream",
          "name": "stdout",
          "text": [
            "              precision    recall  f1-score   support\n",
            "\n",
            "           0       0.50      0.05      0.08      1543\n",
            "           1       0.55      0.83      0.66      4591\n",
            "           2       0.67      0.51      0.58      3933\n",
            "\n",
            "    accuracy                           0.59     10067\n",
            "   macro avg       0.57      0.46      0.44     10067\n",
            "weighted avg       0.59      0.59      0.54     10067\n",
            "\n"
          ]
        }
      ]
    },
    {
      "cell_type": "markdown",
      "source": [
        "### M4 "
      ],
      "metadata": {
        "id": "KpEY18ilklZ8"
      }
    },
    {
      "cell_type": "code",
      "source": [
        "from keras.layers import LSTM, Dense, Masking\n",
        "\n",
        "def creat_model(dim = dim):\n",
        "  text2class = tf.keras.Sequential()\n",
        "  text2class.add(Masking(mask_value= 0, input_shape=(max_len_sen, dim)))\n",
        "  text2class.add(LSTM(512, return_sequences=True))\n",
        "  text2class.add(LSTM(256, return_sequences=True))\n",
        "  text2class.add(LSTM(64))\n",
        "  text2class.add(Dense(3, activation='softmax'))\n",
        "  text2class.compile(loss='sparse_categorical_crossentropy', optimizer='adam', metrics=['accuracy'])\n",
        "  text2class.summary()\n",
        "  return text2class"
      ],
      "metadata": {
        "id": "pdoLBLQbklZ8"
      },
      "execution_count": 31,
      "outputs": []
    },
    {
      "cell_type": "code",
      "source": [
        "tf.random.set_seed(123)\n",
        "\n",
        "model = creat_model()\n",
        "\n",
        "early_stopping_cb = tf.keras.callbacks.EarlyStopping(patience=10,restore_best_weights=True)\n",
        "checkpoint_cb = keras.callbacks.ModelCheckpoint(\"model2.h5\",save_best_only=True)\n",
        "history = model.fit(X_train, y_train, validation_data=(X_valid, y_valid),callbacks=[early_stopping_cb,checkpoint_cb], epochs=100, verbose= 1)"
      ],
      "metadata": {
        "colab": {
          "base_uri": "https://localhost:8080/"
        },
        "outputId": "34158cab-da8b-4da7-99f6-0a571de3b1e8",
        "id": "isvvFnJYklZ8"
      },
      "execution_count": 32,
      "outputs": [
        {
          "output_type": "stream",
          "name": "stdout",
          "text": [
            "Model: \"sequential_3\"\n",
            "_________________________________________________________________\n",
            " Layer (type)                Output Shape              Param #   \n",
            "=================================================================\n",
            " masking_3 (Masking)         (None, 60, 120)           0         \n",
            "                                                                 \n",
            " lstm_7 (LSTM)               (None, 60, 512)           1296384   \n",
            "                                                                 \n",
            " lstm_8 (LSTM)               (None, 60, 256)           787456    \n",
            "                                                                 \n",
            " lstm_9 (LSTM)               (None, 64)                82176     \n",
            "                                                                 \n",
            " dense_3 (Dense)             (None, 3)                 195       \n",
            "                                                                 \n",
            "=================================================================\n",
            "Total params: 2,166,211\n",
            "Trainable params: 2,166,211\n",
            "Non-trainable params: 0\n",
            "_________________________________________________________________\n",
            "Epoch 1/100\n",
            "1101/1101 [==============================] - 27s 18ms/step - loss: 0.9335 - accuracy: 0.5431 - val_loss: 0.8891 - val_accuracy: 0.5812\n",
            "Epoch 2/100\n",
            "1101/1101 [==============================] - 16s 15ms/step - loss: 0.8989 - accuracy: 0.5680 - val_loss: 0.8814 - val_accuracy: 0.5739\n",
            "Epoch 3/100\n",
            "1101/1101 [==============================] - 16s 15ms/step - loss: 0.8844 - accuracy: 0.5761 - val_loss: 0.8594 - val_accuracy: 0.5840\n",
            "Epoch 4/100\n",
            "1101/1101 [==============================] - 16s 15ms/step - loss: 0.8720 - accuracy: 0.5818 - val_loss: 0.8591 - val_accuracy: 0.5852\n",
            "Epoch 5/100\n",
            "1101/1101 [==============================] - 16s 15ms/step - loss: 0.8589 - accuracy: 0.5906 - val_loss: 0.8534 - val_accuracy: 0.5979\n",
            "Epoch 6/100\n",
            "1101/1101 [==============================] - 16s 15ms/step - loss: 0.8419 - accuracy: 0.6014 - val_loss: 0.8493 - val_accuracy: 0.5954\n",
            "Epoch 7/100\n",
            "1101/1101 [==============================] - 16s 15ms/step - loss: 0.8213 - accuracy: 0.6136 - val_loss: 0.8609 - val_accuracy: 0.5894\n",
            "Epoch 8/100\n",
            "1101/1101 [==============================] - 17s 15ms/step - loss: 0.7889 - accuracy: 0.6317 - val_loss: 0.8594 - val_accuracy: 0.6027\n",
            "Epoch 9/100\n",
            "1101/1101 [==============================] - 17s 15ms/step - loss: 0.7422 - accuracy: 0.6563 - val_loss: 0.8889 - val_accuracy: 0.5896\n",
            "Epoch 10/100\n",
            "1101/1101 [==============================] - 17s 15ms/step - loss: 0.6737 - accuracy: 0.6924 - val_loss: 0.9633 - val_accuracy: 0.5757\n",
            "Epoch 11/100\n",
            "1101/1101 [==============================] - 17s 15ms/step - loss: 0.5799 - accuracy: 0.7456 - val_loss: 1.0562 - val_accuracy: 0.5681\n",
            "Epoch 12/100\n",
            "1101/1101 [==============================] - 17s 15ms/step - loss: 0.4795 - accuracy: 0.7898 - val_loss: 1.2418 - val_accuracy: 0.5570\n",
            "Epoch 13/100\n",
            "1101/1101 [==============================] - 17s 15ms/step - loss: 0.3752 - accuracy: 0.8409 - val_loss: 1.4204 - val_accuracy: 0.5574\n",
            "Epoch 14/100\n",
            "1101/1101 [==============================] - 17s 15ms/step - loss: 0.2869 - accuracy: 0.8823 - val_loss: 1.6813 - val_accuracy: 0.5405\n",
            "Epoch 15/100\n",
            "1101/1101 [==============================] - 17s 15ms/step - loss: 0.2243 - accuracy: 0.9118 - val_loss: 1.8731 - val_accuracy: 0.5360\n",
            "Epoch 16/100\n",
            "1101/1101 [==============================] - 17s 15ms/step - loss: 0.1724 - accuracy: 0.9352 - val_loss: 2.0376 - val_accuracy: 0.5429\n"
          ]
        }
      ]
    },
    {
      "cell_type": "code",
      "source": [
        "y_pre = model.predict(X_test)\n",
        "y_pre = np.argmax(y_pre,axis=1)\n",
        "from sklearn.metrics import classification_report\n",
        "report_test = classification_report(y_test,y_pre)\n",
        "print(report_test)"
      ],
      "metadata": {
        "colab": {
          "base_uri": "https://localhost:8080/"
        },
        "outputId": "501304ee-127a-45cf-a538-e4c3113d76d0",
        "id": "vYBEtUNnklZ9"
      },
      "execution_count": 33,
      "outputs": [
        {
          "output_type": "stream",
          "name": "stdout",
          "text": [
            "              precision    recall  f1-score   support\n",
            "\n",
            "           0       0.42      0.08      0.14      1543\n",
            "           1       0.55      0.84      0.66      4591\n",
            "           2       0.69      0.49      0.57      3933\n",
            "\n",
            "    accuracy                           0.59     10067\n",
            "   macro avg       0.56      0.47      0.46     10067\n",
            "weighted avg       0.59      0.59      0.55     10067\n",
            "\n"
          ]
        }
      ]
    },
    {
      "cell_type": "markdown",
      "source": [
        "## Words Embedding As Hidden layer"
      ],
      "metadata": {
        "id": "w7Y5gm6o3qWW"
      }
    },
    {
      "cell_type": "markdown",
      "source": [
        "\n",
        "\n",
        "### Loading dataset for Model 5 to Model 7\n",
        "\n",
        "---\n",
        "\n"
      ],
      "metadata": {
        "id": "6o0WM1Px3aGQ"
      }
    },
    {
      "cell_type": "code",
      "execution_count": null,
      "metadata": {
        "execution": {
          "iopub.execute_input": "2022-01-15T23:57:25.434572Z",
          "iopub.status.busy": "2022-01-15T23:57:25.433067Z",
          "iopub.status.idle": "2022-01-15T23:57:29.930550Z",
          "shell.execute_reply": "2022-01-15T23:57:29.930988Z"
        },
        "papermill": {
          "duration": 4.515734,
          "end_time": "2022-01-15T23:57:29.931292",
          "exception": false,
          "start_time": "2022-01-15T23:57:25.415558",
          "status": "completed"
        },
        "tags": [],
        "id": "83665721"
      },
      "outputs": [],
      "source": [
        "import pandas as pd\n",
        "import numpy as np\n",
        "from csv import reader\n",
        "import tensorflow as tf\n",
        "from tensorflow import keras\n",
        "from tqdm import tqdm\n",
        "import gensim\n",
        "import pickle\n"
      ]
    },
    {
      "cell_type": "code",
      "execution_count": null,
      "metadata": {
        "execution": {
          "iopub.execute_input": "2022-01-15T23:57:29.961992Z",
          "iopub.status.busy": "2022-01-15T23:57:29.961381Z",
          "iopub.status.idle": "2022-01-15T23:57:30.190678Z",
          "shell.execute_reply": "2022-01-15T23:57:30.189741Z"
        },
        "papermill": {
          "duration": 0.245312,
          "end_time": "2022-01-15T23:57:30.190831",
          "exception": false,
          "start_time": "2022-01-15T23:57:29.945519",
          "status": "completed"
        },
        "tags": [],
        "id": "a6c65e3a"
      },
      "outputs": [],
      "source": [
        "with open('../input/tm3-assignment/tokenized_sens .pickle', 'rb') as handle:\n",
        "    sentences = pickle.load(handle)"
      ]
    },
    {
      "cell_type": "code",
      "execution_count": null,
      "metadata": {
        "execution": {
          "iopub.execute_input": "2022-01-15T23:57:30.280782Z",
          "iopub.status.busy": "2022-01-15T23:57:30.265454Z",
          "iopub.status.idle": "2022-01-15T23:57:30.381956Z",
          "shell.execute_reply": "2022-01-15T23:57:30.381021Z"
        },
        "papermill": {
          "duration": 0.177329,
          "end_time": "2022-01-15T23:57:30.382085",
          "exception": false,
          "start_time": "2022-01-15T23:57:30.204756",
          "status": "completed"
        },
        "tags": [],
        "id": "799e22a6"
      },
      "outputs": [],
      "source": [
        "from collections import Counter\n",
        "vocabulary = Counter()\n",
        "for review in sentences: \n",
        "    vocabulary.update(review)"
      ]
    },
    {
      "cell_type": "code",
      "execution_count": null,
      "metadata": {
        "execution": {
          "iopub.execute_input": "2022-01-15T23:57:30.429386Z",
          "iopub.status.busy": "2022-01-15T23:57:30.428759Z",
          "iopub.status.idle": "2022-01-15T23:57:30.436322Z",
          "shell.execute_reply": "2022-01-15T23:57:30.436736Z"
        },
        "papermill": {
          "duration": 0.042436,
          "end_time": "2022-01-15T23:57:30.436863",
          "exception": false,
          "start_time": "2022-01-15T23:57:30.394427",
          "status": "completed"
        },
        "tags": [],
        "id": "85bfe960",
        "outputId": "c9341467-2557-437b-ef7c-bfed9f4bd315"
      },
      "outputs": [
        {
          "data": {
            "text/plain": [
              "43161"
            ]
          },
          "execution_count": 4,
          "metadata": {},
          "output_type": "execute_result"
        }
      ],
      "source": [
        "vocabulary = [word for word, count in vocabulary.most_common()]\n",
        "len(vocabulary)"
      ]
    },
    {
      "cell_type": "code",
      "execution_count": null,
      "metadata": {
        "execution": {
          "iopub.execute_input": "2022-01-15T23:57:32.589669Z",
          "iopub.status.busy": "2022-01-15T23:57:30.608578Z",
          "iopub.status.idle": "2022-01-15T23:57:32.612814Z",
          "shell.execute_reply": "2022-01-15T23:57:32.612363Z"
        },
        "papermill": {
          "duration": 2.163166,
          "end_time": "2022-01-15T23:57:32.612933",
          "exception": false,
          "start_time": "2022-01-15T23:57:30.449767",
          "status": "completed"
        },
        "tags": [],
        "id": "7566ccab",
        "outputId": "ced34fe2-629c-4a81-bd63-c401f7bfc705"
      },
      "outputs": [
        {
          "name": "stderr",
          "output_type": "stream",
          "text": [
            "2022-01-15 23:57:30.513956: I tensorflow/stream_executor/cuda/cuda_gpu_executor.cc:937] successful NUMA node read from SysFS had negative value (-1), but there must be at least one NUMA node, so returning NUMA node zero\n",
            "2022-01-15 23:57:30.605448: I tensorflow/stream_executor/cuda/cuda_gpu_executor.cc:937] successful NUMA node read from SysFS had negative value (-1), but there must be at least one NUMA node, so returning NUMA node zero\n",
            "2022-01-15 23:57:30.606187: I tensorflow/stream_executor/cuda/cuda_gpu_executor.cc:937] successful NUMA node read from SysFS had negative value (-1), but there must be at least one NUMA node, so returning NUMA node zero\n",
            "2022-01-15 23:57:30.608948: I tensorflow/core/platform/cpu_feature_guard.cc:142] This TensorFlow binary is optimized with oneAPI Deep Neural Network Library (oneDNN) to use the following CPU instructions in performance-critical operations:  AVX2 AVX512F FMA\n",
            "To enable them in other operations, rebuild TensorFlow with the appropriate compiler flags.\n",
            "2022-01-15 23:57:30.609682: I tensorflow/stream_executor/cuda/cuda_gpu_executor.cc:937] successful NUMA node read from SysFS had negative value (-1), but there must be at least one NUMA node, so returning NUMA node zero\n",
            "2022-01-15 23:57:30.610581: I tensorflow/stream_executor/cuda/cuda_gpu_executor.cc:937] successful NUMA node read from SysFS had negative value (-1), but there must be at least one NUMA node, so returning NUMA node zero\n",
            "2022-01-15 23:57:30.611442: I tensorflow/stream_executor/cuda/cuda_gpu_executor.cc:937] successful NUMA node read from SysFS had negative value (-1), but there must be at least one NUMA node, so returning NUMA node zero\n",
            "2022-01-15 23:57:32.284152: I tensorflow/stream_executor/cuda/cuda_gpu_executor.cc:937] successful NUMA node read from SysFS had negative value (-1), but there must be at least one NUMA node, so returning NUMA node zero\n",
            "2022-01-15 23:57:32.284968: I tensorflow/stream_executor/cuda/cuda_gpu_executor.cc:937] successful NUMA node read from SysFS had negative value (-1), but there must be at least one NUMA node, so returning NUMA node zero\n",
            "2022-01-15 23:57:32.285688: I tensorflow/stream_executor/cuda/cuda_gpu_executor.cc:937] successful NUMA node read from SysFS had negative value (-1), but there must be at least one NUMA node, so returning NUMA node zero\n",
            "2022-01-15 23:57:32.286306: I tensorflow/core/common_runtime/gpu/gpu_device.cc:1510] Created device /job:localhost/replica:0/task:0/device:GPU:0 with 15403 MB memory:  -> device: 0, name: Tesla P100-PCIE-16GB, pci bus id: 0000:00:04.0, compute capability: 6.0\n"
          ]
        }
      ],
      "source": [
        "words = tf.constant(vocabulary)\n",
        "word_ids = tf.range(len(vocabulary), dtype=tf.int64)\n",
        "vocab_init = tf.lookup.KeyValueTensorInitializer(words, word_ids)\n",
        "num_oov_buckets = 1000\n",
        "table = tf.lookup.StaticVocabularyTable(vocab_init, num_oov_buckets)"
      ]
    },
    {
      "cell_type": "code",
      "execution_count": null,
      "metadata": {
        "execution": {
          "iopub.execute_input": "2022-01-15T23:57:32.644229Z",
          "iopub.status.busy": "2022-01-15T23:57:32.643561Z",
          "iopub.status.idle": "2022-01-15T23:58:04.384051Z",
          "shell.execute_reply": "2022-01-15T23:58:04.383559Z"
        },
        "papermill": {
          "duration": 31.75759,
          "end_time": "2022-01-15T23:58:04.384207",
          "exception": false,
          "start_time": "2022-01-15T23:57:32.626617",
          "status": "completed"
        },
        "tags": [],
        "id": "992f438a"
      },
      "outputs": [],
      "source": [
        "int_senteces = []\n",
        "for i in range(len(sentences)):\n",
        "    int_sen = table.lookup(tf.constant(sentences[i])).numpy()\n",
        "    int_senteces.append(int_sen)"
      ]
    },
    {
      "cell_type": "code",
      "execution_count": null,
      "metadata": {
        "execution": {
          "iopub.execute_input": "2022-01-15T23:58:04.443764Z",
          "iopub.status.busy": "2022-01-15T23:58:04.442692Z",
          "iopub.status.idle": "2022-01-15T23:58:04.500406Z",
          "shell.execute_reply": "2022-01-15T23:58:04.499932Z"
        },
        "papermill": {
          "duration": 0.075687,
          "end_time": "2022-01-15T23:58:04.500535",
          "exception": false,
          "start_time": "2022-01-15T23:58:04.424848",
          "status": "completed"
        },
        "tags": [],
        "id": "10bf0359"
      },
      "outputs": [],
      "source": [
        "sen_num = len(int_senteces)\n",
        "sentences_pad = np.full((sen_num, 60), fill_value= 0,dtype = \"float32\")\n",
        "for s, x in enumerate(int_senteces):\n",
        "    seq_len = len(x)\n",
        "    sentences_pad[s, 0:seq_len] = x\n",
        "\n",
        "\n",
        "\n",
        "\n",
        "X = sentences_pad"
      ]
    },
    {
      "cell_type": "code",
      "execution_count": null,
      "metadata": {
        "execution": {
          "iopub.execute_input": "2022-01-15T23:58:04.531027Z",
          "iopub.status.busy": "2022-01-15T23:58:04.530434Z",
          "iopub.status.idle": "2022-01-15T23:58:04.543810Z",
          "shell.execute_reply": "2022-01-15T23:58:04.544240Z"
        },
        "papermill": {
          "duration": 0.030388,
          "end_time": "2022-01-15T23:58:04.544429",
          "exception": false,
          "start_time": "2022-01-15T23:58:04.514041",
          "status": "completed"
        },
        "tags": [],
        "id": "025239f5"
      },
      "outputs": [],
      "source": [
        "with open('../input/tm3-assignment/y.pickle', 'rb') as handle:\n",
        "    y = pickle.load(handle)"
      ]
    },
    {
      "cell_type": "code",
      "execution_count": null,
      "metadata": {
        "execution": {
          "iopub.execute_input": "2022-01-15T23:58:04.576540Z",
          "iopub.status.busy": "2022-01-15T23:58:04.575415Z",
          "iopub.status.idle": "2022-01-15T23:58:04.730992Z",
          "shell.execute_reply": "2022-01-15T23:58:04.730496Z"
        },
        "papermill": {
          "duration": 0.173229,
          "end_time": "2022-01-15T23:58:04.731122",
          "exception": false,
          "start_time": "2022-01-15T23:58:04.557893",
          "status": "completed"
        },
        "tags": [],
        "id": "67aac7da"
      },
      "outputs": [],
      "source": [
        "from sklearn.model_selection import train_test_split\n",
        "X_train, X_test, y_train, y_test = train_test_split(X, y, test_size=0.2, shuffle=True, random_state=123)\n",
        "X_train, X_valid, y_train, y_valid = train_test_split(X_train, y_train, test_size=1/8, shuffle=True, random_state=123)"
      ]
    },
    {
      "cell_type": "markdown",
      "metadata": {
        "papermill": {
          "duration": 0.013435,
          "end_time": "2022-01-15T23:58:04.758249",
          "exception": false,
          "start_time": "2022-01-15T23:58:04.744814",
          "status": "completed"
        },
        "tags": [],
        "id": "85f3c1d6"
      },
      "source": [
        "### M5"
      ]
    },
    {
      "cell_type": "code",
      "execution_count": null,
      "metadata": {
        "execution": {
          "iopub.execute_input": "2022-01-15T23:58:04.792534Z",
          "iopub.status.busy": "2022-01-15T23:58:04.791838Z",
          "iopub.status.idle": "2022-01-15T23:58:07.697689Z",
          "shell.execute_reply": "2022-01-15T23:58:07.698397Z"
        },
        "papermill": {
          "duration": 2.926872,
          "end_time": "2022-01-15T23:58:07.698553",
          "exception": false,
          "start_time": "2022-01-15T23:58:04.771681",
          "status": "completed"
        },
        "tags": [],
        "id": "901fb44a",
        "outputId": "b177a2f8-badc-4437-c19c-df416a1f6ce0"
      },
      "outputs": [
        {
          "name": "stdout",
          "output_type": "stream",
          "text": [
            "Model: \"model\"\n",
            "__________________________________________________________________________________________________\n",
            "Layer (type)                    Output Shape         Param #     Connected to                     \n",
            "==================================================================================================\n",
            "input_1 (InputLayer)            [(None, None)]       0                                            \n",
            "__________________________________________________________________________________________________\n",
            "embedding (Embedding)           (None, None, 300)    13248300    input_1[0][0]                    \n",
            "__________________________________________________________________________________________________\n",
            "lambda (Lambda)                 (None, None)         0           input_1[0][0]                    \n",
            "__________________________________________________________________________________________________\n",
            "lstm (LSTM)                     (None, None, 512)    1665024     embedding[0][0]                  \n",
            "                                                                 lambda[0][0]                     \n",
            "__________________________________________________________________________________________________\n",
            "lstm_1 (LSTM)                   (None, 64)           147712      lstm[0][0]                       \n",
            "                                                                 lambda[0][0]                     \n",
            "__________________________________________________________________________________________________\n",
            "dense (Dense)                   (None, 3)            195         lstm_1[0][0]                     \n",
            "==================================================================================================\n",
            "Total params: 15,061,231\n",
            "Trainable params: 15,061,231\n",
            "Non-trainable params: 0\n",
            "__________________________________________________________________________________________________\n"
          ]
        }
      ],
      "source": [
        "vocab_size = len(vocabulary)\n",
        "embed_size = 300\n",
        "\n",
        "\n",
        "\n",
        "K = keras.backend\n",
        "inputs = keras.layers.Input(shape=[None])\n",
        "mask = keras.layers.Lambda(lambda inputs: K.not_equal(inputs, 0))(inputs)\n",
        "z = keras.layers.Embedding(vocab_size + num_oov_buckets, embed_size)(inputs) \n",
        "z = keras.layers.LSTM(512, return_sequences=True)(z, mask=mask)\n",
        "z = keras.layers.LSTM(64)(z, mask=mask)\n",
        "outputs = keras.layers.Dense(3, activation=\"softmax\")(z)\n",
        "model = keras.Model(inputs=[inputs], outputs=[outputs])\n",
        "model.compile(loss=\"sparse_categorical_crossentropy\", optimizer=\"adam\",\n",
        "                  metrics=[\"accuracy\"])\n",
        "\n",
        "model.summary()"
      ]
    },
    {
      "cell_type": "code",
      "execution_count": null,
      "metadata": {
        "execution": {
          "iopub.execute_input": "2022-01-15T23:58:07.732640Z",
          "iopub.status.busy": "2022-01-15T23:58:07.731854Z",
          "iopub.status.idle": "2022-01-16T00:24:58.146003Z",
          "shell.execute_reply": "2022-01-16T00:24:58.146488Z"
        },
        "papermill": {
          "duration": 1610.43386,
          "end_time": "2022-01-16T00:24:58.146667",
          "exception": false,
          "start_time": "2022-01-15T23:58:07.712807",
          "status": "completed"
        },
        "tags": [],
        "id": "7c512e27",
        "outputId": "b0f2976b-428f-4657-8c8e-fe720edae366"
      },
      "outputs": [
        {
          "name": "stdout",
          "output_type": "stream",
          "text": [
            "Epoch 1/30\n"
          ]
        },
        {
          "name": "stderr",
          "output_type": "stream",
          "text": [
            "2022-01-15 23:58:07.780894: I tensorflow/compiler/mlir/mlir_graph_optimization_pass.cc:185] None of the MLIR Optimization Passes are enabled (registered 2)\n"
          ]
        },
        {
          "name": "stdout",
          "output_type": "stream",
          "text": [
            "   1/1102 [..............................] - ETA: 2:15:01 - loss: 1.0981 - accuracy: 0.4062"
          ]
        },
        {
          "name": "stderr",
          "output_type": "stream",
          "text": [
            "2022-01-15 23:58:15.771192: I tensorflow/stream_executor/cuda/cuda_dnn.cc:369] Loaded cuDNN version 8005\n"
          ]
        },
        {
          "name": "stdout",
          "output_type": "stream",
          "text": [
            "1102/1102 [==============================] - 269s 238ms/step - loss: 0.8286 - accuracy: 0.6163 - val_loss: 0.7785 - val_accuracy: 0.6476\n",
            "Epoch 2/30\n",
            "1102/1102 [==============================] - 268s 244ms/step - loss: 0.5909 - accuracy: 0.7487 - val_loss: 0.8168 - val_accuracy: 0.6383\n",
            "Epoch 3/30\n",
            "1102/1102 [==============================] - 269s 244ms/step - loss: 0.3683 - accuracy: 0.8546 - val_loss: 0.9694 - val_accuracy: 0.6220\n",
            "Epoch 4/30\n",
            "1102/1102 [==============================] - 266s 241ms/step - loss: 0.2166 - accuracy: 0.9148 - val_loss: 1.2040 - val_accuracy: 0.6075\n",
            "Epoch 5/30\n",
            "1102/1102 [==============================] - 263s 239ms/step - loss: 0.1356 - accuracy: 0.9476 - val_loss: 1.6496 - val_accuracy: 0.6057\n",
            "Epoch 6/30\n",
            "1102/1102 [==============================] - 273s 248ms/step - loss: 0.0904 - accuracy: 0.9658 - val_loss: 1.8630 - val_accuracy: 0.6021\n"
          ]
        }
      ],
      "source": [
        "tf.random.set_seed(123)\n",
        "\n",
        "\n",
        "early_stopping_cb = tf.keras.callbacks.EarlyStopping(patience=5,restore_best_weights=True)\n",
        "checkpoint_cb = keras.callbacks.ModelCheckpoint(\"model4.h5\",save_best_only=True)\n",
        "history = model.fit(X_train, y_train, validation_data=(X_valid, y_valid),callbacks=[early_stopping_cb,checkpoint_cb], epochs=30, verbose= 1)"
      ]
    },
    {
      "cell_type": "code",
      "execution_count": null,
      "metadata": {
        "execution": {
          "iopub.execute_input": "2022-01-16T00:25:00.681163Z",
          "iopub.status.busy": "2022-01-16T00:25:00.680235Z",
          "iopub.status.idle": "2022-01-16T00:25:07.345353Z",
          "shell.execute_reply": "2022-01-16T00:25:07.345861Z"
        },
        "papermill": {
          "duration": 7.940745,
          "end_time": "2022-01-16T00:25:07.346007",
          "exception": false,
          "start_time": "2022-01-16T00:24:59.405262",
          "status": "completed"
        },
        "tags": [],
        "id": "3bfcff59",
        "outputId": "fd624661-614a-49d0-c07d-5689513b514f"
      },
      "outputs": [
        {
          "name": "stdout",
          "output_type": "stream",
          "text": [
            "              precision    recall  f1-score   support\n",
            "\n",
            "           0       0.52      0.42      0.47      1563\n",
            "           1       0.62      0.79      0.69      4642\n",
            "           2       0.76      0.56      0.64      3862\n",
            "\n",
            "    accuracy                           0.65     10067\n",
            "   macro avg       0.63      0.59      0.60     10067\n",
            "weighted avg       0.66      0.65      0.64     10067\n",
            "\n"
          ]
        }
      ],
      "source": [
        "y_pre = model.predict(X_test)\n",
        "y_pre = np.argmax(y_pre,axis=1)\n",
        "from sklearn.metrics import classification_report\n",
        "report_test = classification_report(y_test,y_pre)\n",
        "print(report_test)"
      ]
    },
    {
      "cell_type": "markdown",
      "metadata": {
        "papermill": {
          "duration": 1.303664,
          "end_time": "2022-01-16T00:25:10.136151",
          "exception": false,
          "start_time": "2022-01-16T00:25:08.832487",
          "status": "completed"
        },
        "tags": [],
        "id": "914466dc"
      },
      "source": [
        "### M6"
      ]
    },
    {
      "cell_type": "code",
      "execution_count": null,
      "metadata": {
        "execution": {
          "iopub.execute_input": "2022-01-16T00:25:12.704305Z",
          "iopub.status.busy": "2022-01-16T00:25:12.703454Z",
          "iopub.status.idle": "2022-01-16T00:25:15.149476Z",
          "shell.execute_reply": "2022-01-16T00:25:15.150074Z"
        },
        "papermill": {
          "duration": 3.757967,
          "end_time": "2022-01-16T00:25:15.150286",
          "exception": false,
          "start_time": "2022-01-16T00:25:11.392319",
          "status": "completed"
        },
        "tags": [],
        "id": "5988ec99",
        "outputId": "8fbf6be3-d081-4920-8545-29a35dd16076"
      },
      "outputs": [
        {
          "name": "stdout",
          "output_type": "stream",
          "text": [
            "Model: \"model_1\"\n",
            "__________________________________________________________________________________________________\n",
            "Layer (type)                    Output Shape         Param #     Connected to                     \n",
            "==================================================================================================\n",
            "input_2 (InputLayer)            [(None, None)]       0                                            \n",
            "__________________________________________________________________________________________________\n",
            "embedding_1 (Embedding)         (None, None, 100)    4416100     input_2[0][0]                    \n",
            "__________________________________________________________________________________________________\n",
            "lambda_1 (Lambda)               (None, None)         0           input_2[0][0]                    \n",
            "__________________________________________________________________________________________________\n",
            "lstm_2 (LSTM)                   (None, None, 512)    1255424     embedding_1[0][0]                \n",
            "                                                                 lambda_1[0][0]                   \n",
            "__________________________________________________________________________________________________\n",
            "lstm_3 (LSTM)                   (None, None, 256)    787456      lstm_2[0][0]                     \n",
            "                                                                 lambda_1[0][0]                   \n",
            "__________________________________________________________________________________________________\n",
            "lstm_4 (LSTM)                   (None, 64)           82176       lstm_3[0][0]                     \n",
            "                                                                 lambda_1[0][0]                   \n",
            "__________________________________________________________________________________________________\n",
            "dense_1 (Dense)                 (None, 3)            195         lstm_4[0][0]                     \n",
            "==================================================================================================\n",
            "Total params: 6,541,351\n",
            "Trainable params: 6,541,351\n",
            "Non-trainable params: 0\n",
            "__________________________________________________________________________________________________\n"
          ]
        }
      ],
      "source": [
        "vocab_size = len(vocabulary)\n",
        "embed_size = 100\n",
        "\n",
        "\n",
        "\n",
        "K = keras.backend\n",
        "inputs = keras.layers.Input(shape=[None])\n",
        "mask = keras.layers.Lambda(lambda inputs: K.not_equal(inputs, 0))(inputs)\n",
        "z = keras.layers.Embedding(vocab_size + num_oov_buckets, embed_size)(inputs) \n",
        "z = keras.layers.LSTM(512, return_sequences=True)(z, mask=mask)\n",
        "z = keras.layers.LSTM(256, return_sequences=True)(z, mask=mask)\n",
        "z = keras.layers.LSTM(64)(z, mask=mask)\n",
        "outputs = keras.layers.Dense(3, activation=\"softmax\")(z)\n",
        "model = keras.Model(inputs=[inputs], outputs=[outputs])\n",
        "model.compile(loss=\"sparse_categorical_crossentropy\", optimizer=\"adam\",\n",
        "                  metrics=[\"accuracy\"])\n",
        "\n",
        "model.summary()"
      ]
    },
    {
      "cell_type": "code",
      "execution_count": null,
      "metadata": {
        "execution": {
          "iopub.execute_input": "2022-01-16T00:25:17.759237Z",
          "iopub.status.busy": "2022-01-16T00:25:17.758053Z",
          "iopub.status.idle": "2022-01-16T01:06:48.356756Z",
          "shell.execute_reply": "2022-01-16T01:06:48.357171Z"
        },
        "papermill": {
          "duration": 2491.913885,
          "end_time": "2022-01-16T01:06:48.357337",
          "exception": false,
          "start_time": "2022-01-16T00:25:16.443452",
          "status": "completed"
        },
        "tags": [],
        "id": "6d753f56",
        "outputId": "2187cc30-d32e-46db-be82-03bef41cd7e4"
      },
      "outputs": [
        {
          "name": "stdout",
          "output_type": "stream",
          "text": [
            "Epoch 1/30\n",
            "1102/1102 [==============================] - 424s 377ms/step - loss: 0.8395 - accuracy: 0.6066 - val_loss: 0.7837 - val_accuracy: 0.6432\n",
            "Epoch 2/30\n",
            "1102/1102 [==============================] - 423s 384ms/step - loss: 0.6190 - accuracy: 0.7368 - val_loss: 0.7994 - val_accuracy: 0.6369\n",
            "Epoch 3/30\n",
            "1102/1102 [==============================] - 419s 380ms/step - loss: 0.4315 - accuracy: 0.8286 - val_loss: 0.8973 - val_accuracy: 0.6182\n",
            "Epoch 4/30\n",
            "1102/1102 [==============================] - 417s 377ms/step - loss: 0.2872 - accuracy: 0.8903 - val_loss: 1.1365 - val_accuracy: 0.6009\n",
            "Epoch 5/30\n",
            "1102/1102 [==============================] - 398s 361ms/step - loss: 0.1937 - accuracy: 0.9267 - val_loss: 1.3612 - val_accuracy: 0.6033\n",
            "Epoch 6/30\n",
            "1102/1102 [==============================] - 410s 372ms/step - loss: 0.1350 - accuracy: 0.9486 - val_loss: 1.6936 - val_accuracy: 0.5884\n"
          ]
        }
      ],
      "source": [
        "tf.random.set_seed(123)\n",
        "\n",
        "\n",
        "early_stopping_cb = tf.keras.callbacks.EarlyStopping(patience=5,restore_best_weights=True)\n",
        "checkpoint_cb = keras.callbacks.ModelCheckpoint(\"model5.h5\",save_best_only=True)\n",
        "history = model.fit(X_train, y_train, validation_data=(X_valid, y_valid),callbacks=[early_stopping_cb,checkpoint_cb], epochs=30, verbose= 1)"
      ]
    },
    {
      "cell_type": "code",
      "execution_count": null,
      "metadata": {
        "execution": {
          "iopub.execute_input": "2022-01-16T01:06:53.496367Z",
          "iopub.status.busy": "2022-01-16T01:06:53.495433Z",
          "iopub.status.idle": "2022-01-16T01:07:03.615473Z",
          "shell.execute_reply": "2022-01-16T01:07:03.615896Z"
        },
        "papermill": {
          "duration": 12.723687,
          "end_time": "2022-01-16T01:07:03.616047",
          "exception": false,
          "start_time": "2022-01-16T01:06:50.892360",
          "status": "completed"
        },
        "tags": [],
        "id": "aa16307d",
        "outputId": "29201122-e4f5-467b-a661-21fe2cc6234c"
      },
      "outputs": [
        {
          "name": "stdout",
          "output_type": "stream",
          "text": [
            "              precision    recall  f1-score   support\n",
            "\n",
            "           0       0.53      0.38      0.44      1563\n",
            "           1       0.61      0.81      0.69      4642\n",
            "           2       0.77      0.54      0.64      3862\n",
            "\n",
            "    accuracy                           0.64     10067\n",
            "   macro avg       0.63      0.58      0.59     10067\n",
            "weighted avg       0.66      0.64      0.63     10067\n",
            "\n"
          ]
        }
      ],
      "source": [
        "y_pre = model.predict(X_test)\n",
        "y_pre = np.argmax(y_pre,axis=1)\n",
        "from sklearn.metrics import classification_report\n",
        "report_test = classification_report(y_test,y_pre)\n",
        "print(report_test)"
      ]
    },
    {
      "cell_type": "markdown",
      "metadata": {
        "papermill": {
          "duration": 2.846368,
          "end_time": "2022-01-16T01:07:09.486080",
          "exception": false,
          "start_time": "2022-01-16T01:07:06.639712",
          "status": "completed"
        },
        "tags": [],
        "id": "f4be7e43"
      },
      "source": [
        "### M7"
      ]
    },
    {
      "cell_type": "code",
      "execution_count": null,
      "metadata": {
        "execution": {
          "iopub.execute_input": "2022-01-16T01:07:14.589588Z",
          "iopub.status.busy": "2022-01-16T01:07:14.588164Z",
          "iopub.status.idle": "2022-01-16T01:07:15.934810Z",
          "shell.execute_reply": "2022-01-16T01:07:15.935238Z"
        },
        "papermill": {
          "duration": 3.90674,
          "end_time": "2022-01-16T01:07:15.935404",
          "exception": false,
          "start_time": "2022-01-16T01:07:12.028664",
          "status": "completed"
        },
        "tags": [],
        "id": "8fdfe1f5",
        "outputId": "77bbe4a8-c3c6-466f-f17b-e59fd5a742c4"
      },
      "outputs": [
        {
          "name": "stdout",
          "output_type": "stream",
          "text": [
            "Model: \"model_2\"\n",
            "__________________________________________________________________________________________________\n",
            "Layer (type)                    Output Shape         Param #     Connected to                     \n",
            "==================================================================================================\n",
            "input_3 (InputLayer)            [(None, None)]       0                                            \n",
            "__________________________________________________________________________________________________\n",
            "embedding_2 (Embedding)         (None, None, 50)     2208050     input_3[0][0]                    \n",
            "__________________________________________________________________________________________________\n",
            "lambda_2 (Lambda)               (None, None)         0           input_3[0][0]                    \n",
            "__________________________________________________________________________________________________\n",
            "lstm_5 (LSTM)                   (None, None, 256)    314368      embedding_2[0][0]                \n",
            "                                                                 lambda_2[0][0]                   \n",
            "__________________________________________________________________________________________________\n",
            "lstm_6 (LSTM)                   (None, 64)           82176       lstm_5[0][0]                     \n",
            "                                                                 lambda_2[0][0]                   \n",
            "__________________________________________________________________________________________________\n",
            "dense_2 (Dense)                 (None, 3)            195         lstm_6[0][0]                     \n",
            "==================================================================================================\n",
            "Total params: 2,604,789\n",
            "Trainable params: 2,604,789\n",
            "Non-trainable params: 0\n",
            "__________________________________________________________________________________________________\n"
          ]
        }
      ],
      "source": [
        "vocab_size = len(vocabulary)\n",
        "embed_size = 50\n",
        "\n",
        "\n",
        "\n",
        "K = keras.backend\n",
        "inputs = keras.layers.Input(shape=[None])\n",
        "mask = keras.layers.Lambda(lambda inputs: K.not_equal(inputs, 0))(inputs)\n",
        "z = keras.layers.Embedding(vocab_size + num_oov_buckets, embed_size)(inputs) \n",
        "z = keras.layers.LSTM(256, return_sequences=True)(z, mask=mask)\n",
        "z = keras.layers.LSTM(64)(z, mask=mask)\n",
        "outputs = keras.layers.Dense(3, activation=\"softmax\")(z)\n",
        "model = keras.Model(inputs=[inputs], outputs=[outputs])\n",
        "model.compile(loss=\"sparse_categorical_crossentropy\", optimizer=\"adam\",\n",
        "                  metrics=[\"accuracy\"])\n",
        "\n",
        "model.summary()"
      ]
    },
    {
      "cell_type": "code",
      "execution_count": null,
      "metadata": {
        "execution": {
          "iopub.execute_input": "2022-01-16T01:07:21.389460Z",
          "iopub.status.busy": "2022-01-16T01:07:21.388052Z",
          "iopub.status.idle": "2022-01-16T01:35:56.384714Z",
          "shell.execute_reply": "2022-01-16T01:35:56.385463Z"
        },
        "papermill": {
          "duration": 1717.713669,
          "end_time": "2022-01-16T01:35:56.385628",
          "exception": false,
          "start_time": "2022-01-16T01:07:18.671959",
          "status": "completed"
        },
        "tags": [],
        "id": "5734e1ef",
        "outputId": "f560e63c-104c-45dc-cb5e-6f066fe99bb5"
      },
      "outputs": [
        {
          "name": "stdout",
          "output_type": "stream",
          "text": [
            "Epoch 1/30\n",
            "1102/1102 [==============================] - 293s 260ms/step - loss: 0.8354 - accuracy: 0.6059 - val_loss: 0.7703 - val_accuracy: 0.6528\n",
            "Epoch 2/30\n",
            "1102/1102 [==============================] - 288s 261ms/step - loss: 0.6133 - accuracy: 0.7385 - val_loss: 0.8021 - val_accuracy: 0.6385\n",
            "Epoch 3/30\n",
            "1102/1102 [==============================] - 286s 260ms/step - loss: 0.4418 - accuracy: 0.8239 - val_loss: 0.8971 - val_accuracy: 0.6259\n",
            "Epoch 4/30\n",
            "1102/1102 [==============================] - 282s 256ms/step - loss: 0.3131 - accuracy: 0.8800 - val_loss: 1.0536 - val_accuracy: 0.6130\n",
            "Epoch 5/30\n",
            "1102/1102 [==============================] - 280s 254ms/step - loss: 0.2221 - accuracy: 0.9169 - val_loss: 1.3392 - val_accuracy: 0.6019\n",
            "Epoch 6/30\n",
            "1102/1102 [==============================] - 286s 260ms/step - loss: 0.1576 - accuracy: 0.9406 - val_loss: 1.5948 - val_accuracy: 0.5932\n"
          ]
        }
      ],
      "source": [
        "tf.random.set_seed(123)\n",
        "\n",
        "\n",
        "early_stopping_cb = tf.keras.callbacks.EarlyStopping(patience=5,restore_best_weights=True)\n",
        "checkpoint_cb = keras.callbacks.ModelCheckpoint(\"model6.h5\",save_best_only=True)\n",
        "history = model.fit(X_train, y_train, validation_data=(X_valid, y_valid),callbacks=[early_stopping_cb,checkpoint_cb], epochs=30, verbose= 1)"
      ]
    },
    {
      "cell_type": "code",
      "execution_count": null,
      "metadata": {
        "execution": {
          "iopub.execute_input": "2022-01-16T01:36:04.322049Z",
          "iopub.status.busy": "2022-01-16T01:36:04.321018Z",
          "iopub.status.idle": "2022-01-16T01:37:01.032582Z",
          "shell.execute_reply": "2022-01-16T01:37:01.032080Z"
        },
        "papermill": {
          "duration": 60.76499,
          "end_time": "2022-01-16T01:37:01.032717",
          "exception": false,
          "start_time": "2022-01-16T01:36:00.267727",
          "status": "completed"
        },
        "tags": [],
        "id": "09b0815a",
        "outputId": "89ee44ff-ea23-422c-bc19-0e6f973260a3"
      },
      "outputs": [
        {
          "name": "stdout",
          "output_type": "stream",
          "text": [
            "              precision    recall  f1-score   support\n",
            "\n",
            "           0       0.54      0.44      0.48      1563\n",
            "           1       0.62      0.80      0.70      4642\n",
            "           2       0.76      0.56      0.64      3862\n",
            "\n",
            "    accuracy                           0.65     10067\n",
            "   macro avg       0.64      0.60      0.61     10067\n",
            "weighted avg       0.66      0.65      0.64     10067\n",
            "\n"
          ]
        }
      ],
      "source": [
        "y_pre = model.predict(X_test)\n",
        "y_pre = np.argmax(y_pre,axis=1)\n",
        "from sklearn.metrics import classification_report\n",
        "report_test = classification_report(y_test,y_pre)\n",
        "print(report_test)"
      ]
    },
    {
      "cell_type": "code",
      "source": [
        ""
      ],
      "metadata": {
        "id": "aYH1bzcz42H5"
      },
      "execution_count": null,
      "outputs": []
    },
    {
      "cell_type": "code",
      "source": [
        "import pandas as pd\n",
        "import numpy as np\n",
        "from csv import reader\n",
        "import tensorflow as tf\n",
        "from tensorflow import keras\n",
        "from tqdm import tqdm\n",
        "import gensim\n",
        "import pickle"
      ],
      "metadata": {
        "id": "EEvE7Emp4U4t"
      },
      "execution_count": null,
      "outputs": []
    },
    {
      "cell_type": "code",
      "source": [
        "with open('../input/tm3-assignment/tokenized_sens .pickle', 'rb') as handle:\n",
        "    sentences = pickle.load(handle)"
      ],
      "metadata": {
        "execution": {
          "iopub.status.busy": "2022-01-16T15:56:16.881906Z",
          "iopub.execute_input": "2022-01-16T15:56:16.882581Z",
          "iopub.status.idle": "2022-01-16T15:56:17.131081Z",
          "shell.execute_reply.started": "2022-01-16T15:56:16.882537Z",
          "shell.execute_reply": "2022-01-16T15:56:17.130071Z"
        },
        "trusted": true,
        "id": "QS57Se8Z4It8"
      },
      "execution_count": null,
      "outputs": []
    },
    {
      "cell_type": "code",
      "source": [
        "from collections import Counter\n",
        "vocabulary = Counter()\n",
        "for review in sentences: \n",
        "    vocabulary.update(review)"
      ],
      "metadata": {
        "execution": {
          "iopub.status.busy": "2022-01-16T15:56:17.134710Z",
          "iopub.execute_input": "2022-01-16T15:56:17.135298Z",
          "iopub.status.idle": "2022-01-16T15:56:17.342256Z",
          "shell.execute_reply.started": "2022-01-16T15:56:17.135233Z",
          "shell.execute_reply": "2022-01-16T15:56:17.341294Z"
        },
        "trusted": true,
        "id": "jlx8dda54It8"
      },
      "execution_count": null,
      "outputs": []
    },
    {
      "cell_type": "code",
      "source": [
        "vocabulary_sim = []\n",
        "for word, freq in vocabulary.most_common(): \n",
        "    if freq != 1:\n",
        "        vocabulary_sim.append(word)"
      ],
      "metadata": {
        "execution": {
          "iopub.status.busy": "2022-01-16T15:56:17.344840Z",
          "iopub.execute_input": "2022-01-16T15:56:17.345291Z",
          "iopub.status.idle": "2022-01-16T15:56:17.374629Z",
          "shell.execute_reply.started": "2022-01-16T15:56:17.345232Z",
          "shell.execute_reply": "2022-01-16T15:56:17.373567Z"
        },
        "trusted": true,
        "id": "oH5x00pE4It8"
      },
      "execution_count": null,
      "outputs": []
    },
    {
      "cell_type": "code",
      "source": [
        "sentences_simp = []\n",
        "max_len_squ = 0\n",
        "\n",
        "for sent in sentences:\n",
        "    tmp = []\n",
        "    if len(sent) > max_len_squ: max_len_squ = len(sent)\n",
        "    for word in sent:\n",
        "        if word not in vocabulary_sim:\n",
        "            continue\n",
        "        else:\n",
        "            tmp.append(str(word))\n",
        "    sentences_simp.append(tmp)\n",
        "        \n",
        "    \n"
      ],
      "metadata": {
        "execution": {
          "iopub.status.busy": "2022-01-16T15:56:17.376384Z",
          "iopub.execute_input": "2022-01-16T15:56:17.376719Z",
          "iopub.status.idle": "2022-01-16T15:56:46.751188Z",
          "shell.execute_reply.started": "2022-01-16T15:56:17.376678Z",
          "shell.execute_reply": "2022-01-16T15:56:46.750186Z"
        },
        "trusted": true,
        "id": "k3HmzjPE4It9"
      },
      "execution_count": null,
      "outputs": []
    },
    {
      "cell_type": "code",
      "source": [
        "print(\"max seq len\",max_len_squ)\n",
        "print(len(sentences_simp))"
      ],
      "metadata": {
        "execution": {
          "iopub.status.busy": "2022-01-16T15:56:46.754070Z",
          "iopub.execute_input": "2022-01-16T15:56:46.754707Z",
          "iopub.status.idle": "2022-01-16T15:56:46.762307Z",
          "shell.execute_reply.started": "2022-01-16T15:56:46.754660Z",
          "shell.execute_reply": "2022-01-16T15:56:46.761217Z"
        },
        "trusted": true,
        "id": "PZ_v-aS34It9",
        "outputId": "908629e7-57eb-4734-efa3-30a36b342d6a"
      },
      "execution_count": null,
      "outputs": [
        {
          "name": "stdout",
          "text": "max seq len 60\n50334\n",
          "output_type": "stream"
        }
      ]
    },
    {
      "cell_type": "code",
      "source": [
        "words = tf.constant(vocabulary_sim)\n",
        "word_ids = tf.range(len(vocabulary_sim), dtype= tf.int64)\n",
        "vocab_init = tf.lookup.KeyValueTensorInitializer(words, word_ids)\n",
        "num_oov_buckets = 1000\n",
        "table = tf.lookup.StaticVocabularyTable(vocab_init, num_oov_buckets)"
      ],
      "metadata": {
        "execution": {
          "iopub.status.busy": "2022-01-16T15:56:46.763822Z",
          "iopub.execute_input": "2022-01-16T15:56:46.764607Z",
          "iopub.status.idle": "2022-01-16T15:56:49.578793Z",
          "shell.execute_reply.started": "2022-01-16T15:56:46.764562Z",
          "shell.execute_reply": "2022-01-16T15:56:49.576918Z"
        },
        "trusted": true,
        "id": "KWn5VTUU4It-",
        "outputId": "9c616e06-d327-43a2-bd17-49556b697c1c"
      },
      "execution_count": null,
      "outputs": [
        {
          "name": "stderr",
          "text": "2022-01-16 15:56:46.829111: I tensorflow/stream_executor/cuda/cuda_gpu_executor.cc:937] successful NUMA node read from SysFS had negative value (-1), but there must be at least one NUMA node, so returning NUMA node zero\n2022-01-16 15:56:46.953116: I tensorflow/stream_executor/cuda/cuda_gpu_executor.cc:937] successful NUMA node read from SysFS had negative value (-1), but there must be at least one NUMA node, so returning NUMA node zero\n2022-01-16 15:56:46.954324: I tensorflow/stream_executor/cuda/cuda_gpu_executor.cc:937] successful NUMA node read from SysFS had negative value (-1), but there must be at least one NUMA node, so returning NUMA node zero\n2022-01-16 15:56:46.958115: I tensorflow/core/platform/cpu_feature_guard.cc:142] This TensorFlow binary is optimized with oneAPI Deep Neural Network Library (oneDNN) to use the following CPU instructions in performance-critical operations:  AVX2 FMA\nTo enable them in other operations, rebuild TensorFlow with the appropriate compiler flags.\n2022-01-16 15:56:46.959381: I tensorflow/stream_executor/cuda/cuda_gpu_executor.cc:937] successful NUMA node read from SysFS had negative value (-1), but there must be at least one NUMA node, so returning NUMA node zero\n2022-01-16 15:56:46.960529: I tensorflow/stream_executor/cuda/cuda_gpu_executor.cc:937] successful NUMA node read from SysFS had negative value (-1), but there must be at least one NUMA node, so returning NUMA node zero\n2022-01-16 15:56:46.961707: I tensorflow/stream_executor/cuda/cuda_gpu_executor.cc:937] successful NUMA node read from SysFS had negative value (-1), but there must be at least one NUMA node, so returning NUMA node zero\n2022-01-16 15:56:49.210896: I tensorflow/stream_executor/cuda/cuda_gpu_executor.cc:937] successful NUMA node read from SysFS had negative value (-1), but there must be at least one NUMA node, so returning NUMA node zero\n2022-01-16 15:56:49.211979: I tensorflow/stream_executor/cuda/cuda_gpu_executor.cc:937] successful NUMA node read from SysFS had negative value (-1), but there must be at least one NUMA node, so returning NUMA node zero\n2022-01-16 15:56:49.213013: I tensorflow/stream_executor/cuda/cuda_gpu_executor.cc:937] successful NUMA node read from SysFS had negative value (-1), but there must be at least one NUMA node, so returning NUMA node zero\n2022-01-16 15:56:49.214010: I tensorflow/core/common_runtime/gpu/gpu_device.cc:1510] Created device /job:localhost/replica:0/task:0/device:GPU:0 with 15403 MB memory:  -> device: 0, name: Tesla P100-PCIE-16GB, pci bus id: 0000:00:04.0, compute capability: 6.0\n",
          "output_type": "stream"
        }
      ]
    },
    {
      "cell_type": "code",
      "source": [
        "with open('../input/tm3-assignment/y.pickle', 'rb') as handle:\n",
        "    y = pickle.load(handle)"
      ],
      "metadata": {
        "execution": {
          "iopub.status.busy": "2022-01-16T15:56:49.580295Z",
          "iopub.execute_input": "2022-01-16T15:56:49.580750Z",
          "iopub.status.idle": "2022-01-16T15:56:49.601985Z",
          "shell.execute_reply.started": "2022-01-16T15:56:49.580661Z",
          "shell.execute_reply": "2022-01-16T15:56:49.601024Z"
        },
        "trusted": true,
        "id": "6YMujBSi4It-"
      },
      "execution_count": null,
      "outputs": []
    },
    {
      "cell_type": "code",
      "source": [
        "sentences_simp_empty_rv = []\n",
        "y_new = []\n",
        "i = 0\n",
        "for a_sen in sentences_simp:\n",
        "    if a_sen != []:\n",
        "        sentences_simp_empty_rv.append(a_sen)\n",
        "        y_new.append(y[i])\n",
        "    else:\n",
        "        print(i)\n",
        "    i+=1\n",
        "print(f\"sentence len {len(sentences_simp_empty_rv)}\")\n",
        "print(f\"y new len {len(y_new)}\")"
      ],
      "metadata": {
        "execution": {
          "iopub.status.busy": "2022-01-16T15:56:49.603521Z",
          "iopub.execute_input": "2022-01-16T15:56:49.603857Z",
          "iopub.status.idle": "2022-01-16T15:56:49.645741Z",
          "shell.execute_reply.started": "2022-01-16T15:56:49.603801Z",
          "shell.execute_reply": "2022-01-16T15:56:49.644790Z"
        },
        "trusted": true,
        "id": "8UMSMPyq4It_",
        "outputId": "b002a29b-4a9b-4819-d6dc-37da396ac690"
      },
      "execution_count": null,
      "outputs": [
        {
          "name": "stdout",
          "text": "25627\nsentence len 50333\ny new len 50333\n",
          "output_type": "stream"
        }
      ]
    },
    {
      "cell_type": "code",
      "source": [
        "with open('tokenized_sens.pickle', 'wb') as handle:\n",
        "    pickle.dump(sentences_simp_empty_rv, handle)\n",
        "\n",
        "with open('y_new.pickle', 'wb') as handle:\n",
        "    pickle.dump(y_new, handle)"
      ],
      "metadata": {
        "execution": {
          "iopub.status.busy": "2022-01-16T15:56:49.650067Z",
          "iopub.execute_input": "2022-01-16T15:56:49.650347Z",
          "iopub.status.idle": "2022-01-16T15:56:50.008747Z",
          "shell.execute_reply.started": "2022-01-16T15:56:49.650318Z",
          "shell.execute_reply": "2022-01-16T15:56:50.007762Z"
        },
        "trusted": true,
        "id": "vyAHRjPw4It_"
      },
      "execution_count": null,
      "outputs": []
    },
    {
      "cell_type": "code",
      "source": [
        "int_senteces = []\n",
        "for i in range(len(sentences_simp_empty_rv)):\n",
        "    int_sen = table.lookup(tf.constant(sentences_simp_empty_rv[i])).numpy()\n",
        "    int_senteces.append(int_sen)\n",
        "   "
      ],
      "metadata": {
        "execution": {
          "iopub.status.busy": "2022-01-16T15:56:50.011880Z",
          "iopub.execute_input": "2022-01-16T15:56:50.012216Z",
          "iopub.status.idle": "2022-01-16T15:57:39.820052Z",
          "shell.execute_reply.started": "2022-01-16T15:56:50.012171Z",
          "shell.execute_reply": "2022-01-16T15:57:39.818819Z"
        },
        "trusted": true,
        "id": "O4RcVEYa4It_"
      },
      "execution_count": null,
      "outputs": []
    },
    {
      "cell_type": "markdown",
      "source": [
        "### Loading dataset for M8 to M10\n",
        "\n"
      ],
      "metadata": {
        "id": "-pHtRqTo4IuA"
      }
    },
    {
      "cell_type": "code",
      "source": [
        "import pandas as pd\n",
        "import numpy as np\n",
        "from csv import reader\n",
        "import tensorflow as tf\n",
        "from tensorflow import keras\n",
        "from tqdm import tqdm\n",
        "import gensim\n",
        "import pickle"
      ],
      "metadata": {
        "id": "Ke7ANw3Q5HpV"
      },
      "execution_count": null,
      "outputs": []
    },
    {
      "cell_type": "code",
      "source": [
        "with open('../input/tm3-assignment/tokenized_sens .pickle', 'rb') as handle:\n",
        "    sentences = pickle.load(handle)"
      ],
      "metadata": {
        "execution": {
          "iopub.status.busy": "2022-01-16T15:56:16.881906Z",
          "iopub.execute_input": "2022-01-16T15:56:16.882581Z",
          "iopub.status.idle": "2022-01-16T15:56:17.131081Z",
          "shell.execute_reply.started": "2022-01-16T15:56:16.882537Z",
          "shell.execute_reply": "2022-01-16T15:56:17.130071Z"
        },
        "trusted": true,
        "id": "Kbr_V0Fc5HpV"
      },
      "execution_count": null,
      "outputs": []
    },
    {
      "cell_type": "code",
      "source": [
        "from collections import Counter\n",
        "vocabulary = Counter()\n",
        "for review in sentences: \n",
        "    vocabulary.update(review)"
      ],
      "metadata": {
        "execution": {
          "iopub.status.busy": "2022-01-16T15:56:17.134710Z",
          "iopub.execute_input": "2022-01-16T15:56:17.135298Z",
          "iopub.status.idle": "2022-01-16T15:56:17.342256Z",
          "shell.execute_reply.started": "2022-01-16T15:56:17.135233Z",
          "shell.execute_reply": "2022-01-16T15:56:17.341294Z"
        },
        "trusted": true,
        "id": "SOBKuG5_5HpV"
      },
      "execution_count": null,
      "outputs": []
    },
    {
      "cell_type": "code",
      "source": [
        "vocabulary_sim = []\n",
        "for word, freq in vocabulary.most_common(): \n",
        "    if freq != 1:\n",
        "        vocabulary_sim.append(word)"
      ],
      "metadata": {
        "execution": {
          "iopub.status.busy": "2022-01-16T15:56:17.344840Z",
          "iopub.execute_input": "2022-01-16T15:56:17.345291Z",
          "iopub.status.idle": "2022-01-16T15:56:17.374629Z",
          "shell.execute_reply.started": "2022-01-16T15:56:17.345232Z",
          "shell.execute_reply": "2022-01-16T15:56:17.373567Z"
        },
        "trusted": true,
        "id": "umTRqc5u5HpV"
      },
      "execution_count": null,
      "outputs": []
    },
    {
      "cell_type": "code",
      "source": [
        "sentences_simp = []\n",
        "max_len_squ = 0\n",
        "\n",
        "for sent in sentences:\n",
        "    tmp = []\n",
        "    if len(sent) > max_len_squ: max_len_squ = len(sent)\n",
        "    for word in sent:\n",
        "        if word not in vocabulary_sim:\n",
        "            continue\n",
        "        else:\n",
        "            tmp.append(str(word))\n",
        "    sentences_simp.append(tmp)\n",
        "        \n",
        "    \n"
      ],
      "metadata": {
        "execution": {
          "iopub.status.busy": "2022-01-16T15:56:17.376384Z",
          "iopub.execute_input": "2022-01-16T15:56:17.376719Z",
          "iopub.status.idle": "2022-01-16T15:56:46.751188Z",
          "shell.execute_reply.started": "2022-01-16T15:56:17.376678Z",
          "shell.execute_reply": "2022-01-16T15:56:46.750186Z"
        },
        "trusted": true,
        "id": "GYkPmNyL5HpV"
      },
      "execution_count": null,
      "outputs": []
    },
    {
      "cell_type": "code",
      "source": [
        "print(\"max seq len\",max_len_squ)\n",
        "print(len(sentences_simp))"
      ],
      "metadata": {
        "execution": {
          "iopub.status.busy": "2022-01-16T15:56:46.754070Z",
          "iopub.execute_input": "2022-01-16T15:56:46.754707Z",
          "iopub.status.idle": "2022-01-16T15:56:46.762307Z",
          "shell.execute_reply.started": "2022-01-16T15:56:46.754660Z",
          "shell.execute_reply": "2022-01-16T15:56:46.761217Z"
        },
        "trusted": true,
        "outputId": "908629e7-57eb-4734-efa3-30a36b342d6a",
        "id": "opLKzQkX5HpV"
      },
      "execution_count": null,
      "outputs": [
        {
          "name": "stdout",
          "text": "max seq len 60\n50334\n",
          "output_type": "stream"
        }
      ]
    },
    {
      "cell_type": "code",
      "source": [
        "words = tf.constant(vocabulary_sim)\n",
        "word_ids = tf.range(len(vocabulary_sim), dtype= tf.int64)\n",
        "vocab_init = tf.lookup.KeyValueTensorInitializer(words, word_ids)\n",
        "num_oov_buckets = 1000\n",
        "table = tf.lookup.StaticVocabularyTable(vocab_init, num_oov_buckets)"
      ],
      "metadata": {
        "execution": {
          "iopub.status.busy": "2022-01-16T15:56:46.763822Z",
          "iopub.execute_input": "2022-01-16T15:56:46.764607Z",
          "iopub.status.idle": "2022-01-16T15:56:49.578793Z",
          "shell.execute_reply.started": "2022-01-16T15:56:46.764562Z",
          "shell.execute_reply": "2022-01-16T15:56:49.576918Z"
        },
        "trusted": true,
        "outputId": "9c616e06-d327-43a2-bd17-49556b697c1c",
        "id": "gp-U37mW5HpW"
      },
      "execution_count": null,
      "outputs": [
        {
          "name": "stderr",
          "text": "2022-01-16 15:56:46.829111: I tensorflow/stream_executor/cuda/cuda_gpu_executor.cc:937] successful NUMA node read from SysFS had negative value (-1), but there must be at least one NUMA node, so returning NUMA node zero\n2022-01-16 15:56:46.953116: I tensorflow/stream_executor/cuda/cuda_gpu_executor.cc:937] successful NUMA node read from SysFS had negative value (-1), but there must be at least one NUMA node, so returning NUMA node zero\n2022-01-16 15:56:46.954324: I tensorflow/stream_executor/cuda/cuda_gpu_executor.cc:937] successful NUMA node read from SysFS had negative value (-1), but there must be at least one NUMA node, so returning NUMA node zero\n2022-01-16 15:56:46.958115: I tensorflow/core/platform/cpu_feature_guard.cc:142] This TensorFlow binary is optimized with oneAPI Deep Neural Network Library (oneDNN) to use the following CPU instructions in performance-critical operations:  AVX2 FMA\nTo enable them in other operations, rebuild TensorFlow with the appropriate compiler flags.\n2022-01-16 15:56:46.959381: I tensorflow/stream_executor/cuda/cuda_gpu_executor.cc:937] successful NUMA node read from SysFS had negative value (-1), but there must be at least one NUMA node, so returning NUMA node zero\n2022-01-16 15:56:46.960529: I tensorflow/stream_executor/cuda/cuda_gpu_executor.cc:937] successful NUMA node read from SysFS had negative value (-1), but there must be at least one NUMA node, so returning NUMA node zero\n2022-01-16 15:56:46.961707: I tensorflow/stream_executor/cuda/cuda_gpu_executor.cc:937] successful NUMA node read from SysFS had negative value (-1), but there must be at least one NUMA node, so returning NUMA node zero\n2022-01-16 15:56:49.210896: I tensorflow/stream_executor/cuda/cuda_gpu_executor.cc:937] successful NUMA node read from SysFS had negative value (-1), but there must be at least one NUMA node, so returning NUMA node zero\n2022-01-16 15:56:49.211979: I tensorflow/stream_executor/cuda/cuda_gpu_executor.cc:937] successful NUMA node read from SysFS had negative value (-1), but there must be at least one NUMA node, so returning NUMA node zero\n2022-01-16 15:56:49.213013: I tensorflow/stream_executor/cuda/cuda_gpu_executor.cc:937] successful NUMA node read from SysFS had negative value (-1), but there must be at least one NUMA node, so returning NUMA node zero\n2022-01-16 15:56:49.214010: I tensorflow/core/common_runtime/gpu/gpu_device.cc:1510] Created device /job:localhost/replica:0/task:0/device:GPU:0 with 15403 MB memory:  -> device: 0, name: Tesla P100-PCIE-16GB, pci bus id: 0000:00:04.0, compute capability: 6.0\n",
          "output_type": "stream"
        }
      ]
    },
    {
      "cell_type": "code",
      "source": [
        "with open('../input/tm3-assignment/y.pickle', 'rb') as handle:\n",
        "    y = pickle.load(handle)"
      ],
      "metadata": {
        "execution": {
          "iopub.status.busy": "2022-01-16T15:56:49.580295Z",
          "iopub.execute_input": "2022-01-16T15:56:49.580750Z",
          "iopub.status.idle": "2022-01-16T15:56:49.601985Z",
          "shell.execute_reply.started": "2022-01-16T15:56:49.580661Z",
          "shell.execute_reply": "2022-01-16T15:56:49.601024Z"
        },
        "trusted": true,
        "id": "icH4Ja1D5HpW"
      },
      "execution_count": null,
      "outputs": []
    },
    {
      "cell_type": "code",
      "source": [
        "sentences_simp_empty_rv = []\n",
        "y_new = []\n",
        "i = 0\n",
        "for a_sen in sentences_simp:\n",
        "    if a_sen != []:\n",
        "        sentences_simp_empty_rv.append(a_sen)\n",
        "        y_new.append(y[i])\n",
        "    else:\n",
        "        print(i)\n",
        "    i+=1\n",
        "print(f\"sentence len {len(sentences_simp_empty_rv)}\")\n",
        "print(f\"y new len {len(y_new)}\")"
      ],
      "metadata": {
        "execution": {
          "iopub.status.busy": "2022-01-16T15:56:49.603521Z",
          "iopub.execute_input": "2022-01-16T15:56:49.603857Z",
          "iopub.status.idle": "2022-01-16T15:56:49.645741Z",
          "shell.execute_reply.started": "2022-01-16T15:56:49.603801Z",
          "shell.execute_reply": "2022-01-16T15:56:49.644790Z"
        },
        "trusted": true,
        "outputId": "b002a29b-4a9b-4819-d6dc-37da396ac690",
        "id": "U0xj1k7q5HpW"
      },
      "execution_count": null,
      "outputs": [
        {
          "name": "stdout",
          "text": "25627\nsentence len 50333\ny new len 50333\n",
          "output_type": "stream"
        }
      ]
    },
    {
      "cell_type": "code",
      "source": [
        "with open('tokenized_sens.pickle', 'wb') as handle:\n",
        "    pickle.dump(sentences_simp_empty_rv, handle)\n",
        "\n",
        "with open('y_new.pickle', 'wb') as handle:\n",
        "    pickle.dump(y_new, handle)"
      ],
      "metadata": {
        "execution": {
          "iopub.status.busy": "2022-01-16T15:56:49.650067Z",
          "iopub.execute_input": "2022-01-16T15:56:49.650347Z",
          "iopub.status.idle": "2022-01-16T15:56:50.008747Z",
          "shell.execute_reply.started": "2022-01-16T15:56:49.650318Z",
          "shell.execute_reply": "2022-01-16T15:56:50.007762Z"
        },
        "trusted": true,
        "id": "a3ovuEvS5HpW"
      },
      "execution_count": null,
      "outputs": []
    },
    {
      "cell_type": "code",
      "source": [
        "int_senteces = []\n",
        "for i in range(len(sentences_simp_empty_rv)):\n",
        "    int_sen = table.lookup(tf.constant(sentences_simp_empty_rv[i])).numpy()\n",
        "    int_senteces.append(int_sen)\n",
        "   "
      ],
      "metadata": {
        "execution": {
          "iopub.status.busy": "2022-01-16T15:56:50.011880Z",
          "iopub.execute_input": "2022-01-16T15:56:50.012216Z",
          "iopub.status.idle": "2022-01-16T15:57:39.820052Z",
          "shell.execute_reply.started": "2022-01-16T15:56:50.012171Z",
          "shell.execute_reply": "2022-01-16T15:57:39.818819Z"
        },
        "trusted": true,
        "id": "4h1rDWU45HpW"
      },
      "execution_count": null,
      "outputs": []
    },
    {
      "cell_type": "code",
      "source": [
        "# padding \n",
        "sen_num = len(int_senteces)\n",
        "sentences_pad = np.full((sen_num, max_len_squ), fill_value= 0,dtype = \"float32\")\n",
        "for s, x in enumerate(int_senteces):\n",
        "    seq_len = len(x)\n",
        "    sentences_pad[s, 0:seq_len] = x\n",
        "\n",
        "\n",
        "\n",
        "\n",
        "X = sentences_pad\n",
        "X = np.asarray(X)\n",
        "y_new = np.asarray(y_new)"
      ],
      "metadata": {
        "execution": {
          "iopub.status.busy": "2022-01-16T15:57:39.822158Z",
          "iopub.execute_input": "2022-01-16T15:57:39.822568Z",
          "iopub.status.idle": "2022-01-16T15:57:39.919116Z",
          "shell.execute_reply.started": "2022-01-16T15:57:39.822524Z",
          "shell.execute_reply": "2022-01-16T15:57:39.918087Z"
        },
        "trusted": true,
        "id": "Dl16_oIS4IuB"
      },
      "execution_count": null,
      "outputs": []
    },
    {
      "cell_type": "code",
      "source": [
        "from sklearn.model_selection import train_test_split\n",
        "X_train, X_test, y_train, y_test = train_test_split(X, y_new, test_size=0.2, shuffle=True, random_state=123)\n",
        "X_train, X_valid, y_train, y_valid = train_test_split(X_train, y_train, test_size=1/8, shuffle=True, random_state=123)"
      ],
      "metadata": {
        "execution": {
          "iopub.status.busy": "2022-01-16T15:57:39.920885Z",
          "iopub.execute_input": "2022-01-16T15:57:39.921254Z",
          "iopub.status.idle": "2022-01-16T15:57:40.108596Z",
          "shell.execute_reply.started": "2022-01-16T15:57:39.921209Z",
          "shell.execute_reply": "2022-01-16T15:57:40.107541Z"
        },
        "trusted": true,
        "id": "e9NPbhQB4IuB"
      },
      "execution_count": null,
      "outputs": []
    },
    {
      "cell_type": "markdown",
      "source": [
        "### M8"
      ],
      "metadata": {
        "id": "8tSgMGKx4IuB"
      }
    },
    {
      "cell_type": "code",
      "source": [
        "vocab_size = len(vocabulary)\n",
        "embed_size = 300\n",
        "\n",
        "\n",
        "\n",
        "K = keras.backend\n",
        "inputs = keras.layers.Input(shape=[None])\n",
        "mask = keras.layers.Lambda(lambda inputs: K.not_equal(inputs, 0))(inputs)\n",
        "z = keras.layers.Embedding(vocab_size + num_oov_buckets, embed_size)(inputs) \n",
        "z = keras.layers.LSTM(512, return_sequences=True)(z, mask=mask)\n",
        "z = keras.layers.LSTM(64)(z, mask=mask)\n",
        "outputs = keras.layers.Dense(3, activation=\"softmax\")(z)\n",
        "model = keras.Model(inputs=[inputs], outputs=[outputs])\n",
        "model.compile(loss=\"sparse_categorical_crossentropy\", optimizer=\"adam\",\n",
        "                  metrics=[\"accuracy\"])\n",
        "\n",
        "model.summary()"
      ],
      "metadata": {
        "execution": {
          "iopub.status.busy": "2022-01-16T15:57:40.111612Z",
          "iopub.execute_input": "2022-01-16T15:57:40.111912Z",
          "iopub.status.idle": "2022-01-16T15:57:43.203525Z",
          "shell.execute_reply.started": "2022-01-16T15:57:40.111869Z",
          "shell.execute_reply": "2022-01-16T15:57:43.202386Z"
        },
        "trusted": true,
        "id": "bJmDbYKp4IuB",
        "outputId": "a2e6a0b0-c2fb-422d-f5e6-a28a28ef4280"
      },
      "execution_count": null,
      "outputs": [
        {
          "name": "stdout",
          "text": "Model: \"model\"\n__________________________________________________________________________________________________\nLayer (type)                    Output Shape         Param #     Connected to                     \n==================================================================================================\ninput_1 (InputLayer)            [(None, None)]       0                                            \n__________________________________________________________________________________________________\nembedding (Embedding)           (None, None, 300)    13248300    input_1[0][0]                    \n__________________________________________________________________________________________________\nlambda (Lambda)                 (None, None)         0           input_1[0][0]                    \n__________________________________________________________________________________________________\nlstm (LSTM)                     (None, None, 512)    1665024     embedding[0][0]                  \n                                                                 lambda[0][0]                     \n__________________________________________________________________________________________________\nlstm_1 (LSTM)                   (None, 64)           147712      lstm[0][0]                       \n                                                                 lambda[0][0]                     \n__________________________________________________________________________________________________\ndense (Dense)                   (None, 3)            195         lstm_1[0][0]                     \n==================================================================================================\nTotal params: 15,061,231\nTrainable params: 15,061,231\nNon-trainable params: 0\n__________________________________________________________________________________________________\n",
          "output_type": "stream"
        }
      ]
    },
    {
      "cell_type": "code",
      "source": [
        "tf.random.set_seed(123)\n",
        "\n",
        "\n",
        "early_stopping_cb = tf.keras.callbacks.EarlyStopping(patience=5,restore_best_weights=True)\n",
        "checkpoint_cb = keras.callbacks.ModelCheckpoint(\"model4.h5\",save_best_only=True)\n",
        "history = model.fit(X_train, y_train, validation_data=(X_valid, y_valid),callbacks=[early_stopping_cb,checkpoint_cb], epochs=30, verbose= 1)"
      ],
      "metadata": {
        "execution": {
          "iopub.status.busy": "2022-01-16T15:57:43.205098Z",
          "iopub.execute_input": "2022-01-16T15:57:43.205551Z",
          "iopub.status.idle": "2022-01-16T16:22:11.926266Z",
          "shell.execute_reply.started": "2022-01-16T15:57:43.205506Z",
          "shell.execute_reply": "2022-01-16T16:22:11.925259Z"
        },
        "trusted": true,
        "id": "pfDaRgTL4IuC",
        "outputId": "d2509903-466f-4579-dd0d-5102bd80a464"
      },
      "execution_count": null,
      "outputs": [
        {
          "name": "stdout",
          "text": "Epoch 1/30\n",
          "output_type": "stream"
        },
        {
          "name": "stderr",
          "text": "2022-01-16 15:57:43.281320: I tensorflow/compiler/mlir/mlir_graph_optimization_pass.cc:185] None of the MLIR Optimization Passes are enabled (registered 2)\n",
          "output_type": "stream"
        },
        {
          "name": "stdout",
          "text": "   3/1101 [..............................] - ETA: 5:49 - loss: 1.0933 - accuracy: 0.3542 ",
          "output_type": "stream"
        },
        {
          "name": "stderr",
          "text": "2022-01-16 15:57:52.446939: I tensorflow/stream_executor/cuda/cuda_dnn.cc:369] Loaded cuDNN version 8005\n",
          "output_type": "stream"
        },
        {
          "name": "stdout",
          "text": "1101/1101 [==============================] - 248s 219ms/step - loss: 0.8273 - accuracy: 0.6150 - val_loss: 0.7587 - val_accuracy: 0.6585\nEpoch 2/30\n1101/1101 [==============================] - 245s 222ms/step - loss: 0.6442 - accuracy: 0.7235 - val_loss: 0.7932 - val_accuracy: 0.6410\nEpoch 3/30\n1101/1101 [==============================] - 247s 224ms/step - loss: 0.4732 - accuracy: 0.8051 - val_loss: 0.9205 - val_accuracy: 0.6202\nEpoch 4/30\n1101/1101 [==============================] - 244s 221ms/step - loss: 0.3153 - accuracy: 0.8729 - val_loss: 1.2138 - val_accuracy: 0.6065\nEpoch 5/30\n1101/1101 [==============================] - 242s 219ms/step - loss: 0.2049 - accuracy: 0.9200 - val_loss: 1.4696 - val_accuracy: 0.6015\nEpoch 6/30\n1101/1101 [==============================] - 243s 221ms/step - loss: 0.1373 - accuracy: 0.9470 - val_loss: 1.7094 - val_accuracy: 0.5981\n",
          "output_type": "stream"
        }
      ]
    },
    {
      "cell_type": "code",
      "source": [
        "y_pre = model.predict(X_test)\n",
        "y_pre = np.argmax(y_pre,axis=1)\n",
        "from sklearn.metrics import classification_report\n",
        "report_test = classification_report(y_test,y_pre)\n",
        "print(report_test)"
      ],
      "metadata": {
        "execution": {
          "iopub.status.busy": "2022-01-16T16:22:11.928186Z",
          "iopub.execute_input": "2022-01-16T16:22:11.928531Z",
          "iopub.status.idle": "2022-01-16T16:23:26.329298Z",
          "shell.execute_reply.started": "2022-01-16T16:22:11.928477Z",
          "shell.execute_reply": "2022-01-16T16:23:26.328255Z"
        },
        "trusted": true,
        "id": "thfnEu4_4IuC",
        "outputId": "3486e7c0-57c0-468c-a126-467cfed3dc06"
      },
      "execution_count": null,
      "outputs": [
        {
          "name": "stdout",
          "text": "              precision    recall  f1-score   support\n\n           0       0.55      0.45      0.49      1543\n           1       0.64      0.73      0.68      4591\n           2       0.70      0.64      0.67      3933\n\n    accuracy                           0.65     10067\n   macro avg       0.63      0.61      0.62     10067\nweighted avg       0.65      0.65      0.65     10067\n\n",
          "output_type": "stream"
        }
      ]
    },
    {
      "cell_type": "markdown",
      "source": [
        "### M9"
      ],
      "metadata": {
        "id": "bwK8hqYb4IuD"
      }
    },
    {
      "cell_type": "code",
      "source": [
        "vocab_size = len(vocabulary)\n",
        "embed_size = 100\n",
        "\n",
        "\n",
        "\n",
        "K = keras.backend\n",
        "inputs = keras.layers.Input(shape=[None])\n",
        "mask = keras.layers.Lambda(lambda inputs: K.not_equal(inputs, 0))(inputs)\n",
        "z = keras.layers.Embedding(vocab_size + num_oov_buckets, embed_size)(inputs) \n",
        "z = keras.layers.LSTM(512, return_sequences=True)(z, mask=mask)\n",
        "z = keras.layers.LSTM(256, return_sequences=True)(z, mask=mask)\n",
        "z = keras.layers.LSTM(64)(z, mask=mask)\n",
        "outputs = keras.layers.Dense(3, activation=\"softmax\")(z)\n",
        "model = keras.Model(inputs=[inputs], outputs=[outputs])\n",
        "model.compile(loss=\"sparse_categorical_crossentropy\", optimizer=\"adam\",\n",
        "                  metrics=[\"accuracy\"])\n",
        "\n",
        "model.summary()"
      ],
      "metadata": {
        "execution": {
          "iopub.status.busy": "2022-01-16T16:23:26.330794Z",
          "iopub.execute_input": "2022-01-16T16:23:26.336187Z",
          "iopub.status.idle": "2022-01-16T16:23:29.752385Z",
          "shell.execute_reply.started": "2022-01-16T16:23:26.336108Z",
          "shell.execute_reply": "2022-01-16T16:23:29.751411Z"
        },
        "trusted": true,
        "id": "wAW_a3od4IuD",
        "outputId": "bf4135a8-299f-4372-c7dc-2827c42b3fa8"
      },
      "execution_count": null,
      "outputs": [
        {
          "name": "stdout",
          "text": "Model: \"model_1\"\n__________________________________________________________________________________________________\nLayer (type)                    Output Shape         Param #     Connected to                     \n==================================================================================================\ninput_2 (InputLayer)            [(None, None)]       0                                            \n__________________________________________________________________________________________________\nembedding_1 (Embedding)         (None, None, 100)    4416100     input_2[0][0]                    \n__________________________________________________________________________________________________\nlambda_1 (Lambda)               (None, None)         0           input_2[0][0]                    \n__________________________________________________________________________________________________\nlstm_2 (LSTM)                   (None, None, 512)    1255424     embedding_1[0][0]                \n                                                                 lambda_1[0][0]                   \n__________________________________________________________________________________________________\nlstm_3 (LSTM)                   (None, None, 256)    787456      lstm_2[0][0]                     \n                                                                 lambda_1[0][0]                   \n__________________________________________________________________________________________________\nlstm_4 (LSTM)                   (None, 64)           82176       lstm_3[0][0]                     \n                                                                 lambda_1[0][0]                   \n__________________________________________________________________________________________________\ndense_1 (Dense)                 (None, 3)            195         lstm_4[0][0]                     \n==================================================================================================\nTotal params: 6,541,351\nTrainable params: 6,541,351\nNon-trainable params: 0\n__________________________________________________________________________________________________\n",
          "output_type": "stream"
        }
      ]
    },
    {
      "cell_type": "code",
      "source": [
        "tf.random.set_seed(123)\n",
        "\n",
        "\n",
        "early_stopping_cb = tf.keras.callbacks.EarlyStopping(patience=5,restore_best_weights=True)\n",
        "checkpoint_cb = keras.callbacks.ModelCheckpoint(\"model5.h5\",save_best_only=True)\n",
        "history = model.fit(X_train, y_train, validation_data=(X_valid, y_valid),callbacks=[early_stopping_cb,checkpoint_cb], epochs=30, verbose= 1)"
      ],
      "metadata": {
        "execution": {
          "iopub.status.busy": "2022-01-16T16:23:29.754093Z",
          "iopub.execute_input": "2022-01-16T16:23:29.754388Z",
          "iopub.status.idle": "2022-01-16T16:59:51.316406Z",
          "shell.execute_reply.started": "2022-01-16T16:23:29.754349Z",
          "shell.execute_reply": "2022-01-16T16:59:51.315362Z"
        },
        "trusted": true,
        "id": "iau3T-aq4IuD",
        "outputId": "1a41c8d6-e0f6-4273-d200-a8d331f32b91"
      },
      "execution_count": null,
      "outputs": [
        {
          "name": "stdout",
          "text": "Epoch 1/30\n1101/1101 [==============================] - 368s 326ms/step - loss: 0.8401 - accuracy: 0.6079 - val_loss: 0.7682 - val_accuracy: 0.6524\nEpoch 2/30\n1101/1101 [==============================] - 366s 332ms/step - loss: 0.6660 - accuracy: 0.7130 - val_loss: 0.7885 - val_accuracy: 0.6385\nEpoch 3/30\n1101/1101 [==============================] - 362s 328ms/step - loss: 0.5276 - accuracy: 0.7839 - val_loss: 0.8647 - val_accuracy: 0.6255\nEpoch 4/30\n1101/1101 [==============================] - 356s 323ms/step - loss: 0.3847 - accuracy: 0.8497 - val_loss: 1.0373 - val_accuracy: 0.6138\nEpoch 5/30\n1101/1101 [==============================] - 364s 330ms/step - loss: 0.2760 - accuracy: 0.8931 - val_loss: 1.3099 - val_accuracy: 0.5969\nEpoch 6/30\n1101/1101 [==============================] - 366s 333ms/step - loss: 0.2005 - accuracy: 0.9225 - val_loss: 1.4268 - val_accuracy: 0.5959\n",
          "output_type": "stream"
        }
      ]
    },
    {
      "cell_type": "code",
      "source": [
        "y_pre = model.predict(X_test)\n",
        "y_pre = np.argmax(y_pre,axis=1)\n",
        "from sklearn.metrics import classification_report\n",
        "report_test = classification_report(y_test,y_pre)\n",
        "print(report_test)"
      ],
      "metadata": {
        "execution": {
          "iopub.status.busy": "2022-01-16T16:59:51.318074Z",
          "iopub.execute_input": "2022-01-16T16:59:51.318444Z",
          "iopub.status.idle": "2022-01-16T17:00:13.661820Z",
          "shell.execute_reply.started": "2022-01-16T16:59:51.318388Z",
          "shell.execute_reply": "2022-01-16T17:00:13.660808Z"
        },
        "trusted": true,
        "id": "yQG2KCJH4IuE",
        "outputId": "5be311f1-39a9-44d0-a43a-09d2da96c46e"
      },
      "execution_count": null,
      "outputs": [
        {
          "name": "stdout",
          "text": "              precision    recall  f1-score   support\n\n           0       0.55      0.46      0.50      1543\n           1       0.64      0.73      0.68      4591\n           2       0.70      0.63      0.66      3933\n\n    accuracy                           0.65     10067\n   macro avg       0.63      0.60      0.61     10067\nweighted avg       0.65      0.65      0.65     10067\n\n",
          "output_type": "stream"
        }
      ]
    },
    {
      "cell_type": "markdown",
      "source": [
        "### Model 10"
      ],
      "metadata": {
        "id": "PRvumdSq4IuE"
      }
    },
    {
      "cell_type": "code",
      "source": [
        "vocab_size = len(vocabulary)\n",
        "embed_size = 50\n",
        "\n",
        "\n",
        "\n",
        "K = keras.backend\n",
        "inputs = keras.layers.Input(shape=[None])\n",
        "mask = keras.layers.Lambda(lambda inputs: K.not_equal(inputs, 0))(inputs)\n",
        "z = keras.layers.Embedding(vocab_size + num_oov_buckets, embed_size)(inputs) \n",
        "z = keras.layers.LSTM(256, return_sequences=True)(z, mask=mask)\n",
        "z = keras.layers.LSTM(64)(z, mask=mask)\n",
        "outputs = keras.layers.Dense(3, activation=\"softmax\")(z)\n",
        "model = keras.Model(inputs=[inputs], outputs=[outputs])\n",
        "model.compile(loss=\"sparse_categorical_crossentropy\", optimizer=\"adam\",\n",
        "                  metrics=[\"accuracy\"])\n",
        "\n",
        "model.summary()"
      ],
      "metadata": {
        "execution": {
          "iopub.status.busy": "2022-01-16T17:00:13.663220Z",
          "iopub.execute_input": "2022-01-16T17:00:13.663702Z",
          "iopub.status.idle": "2022-01-16T17:00:15.756289Z",
          "shell.execute_reply.started": "2022-01-16T17:00:13.663660Z",
          "shell.execute_reply": "2022-01-16T17:00:15.755276Z"
        },
        "trusted": true,
        "id": "ehH_TGAp4IuF",
        "outputId": "b4dd2aea-8fb9-42d3-f7e3-e2045538997b"
      },
      "execution_count": null,
      "outputs": [
        {
          "name": "stdout",
          "text": "Model: \"model_2\"\n__________________________________________________________________________________________________\nLayer (type)                    Output Shape         Param #     Connected to                     \n==================================================================================================\ninput_3 (InputLayer)            [(None, None)]       0                                            \n__________________________________________________________________________________________________\nembedding_2 (Embedding)         (None, None, 50)     2208050     input_3[0][0]                    \n__________________________________________________________________________________________________\nlambda_2 (Lambda)               (None, None)         0           input_3[0][0]                    \n__________________________________________________________________________________________________\nlstm_5 (LSTM)                   (None, None, 256)    314368      embedding_2[0][0]                \n                                                                 lambda_2[0][0]                   \n__________________________________________________________________________________________________\nlstm_6 (LSTM)                   (None, 64)           82176       lstm_5[0][0]                     \n                                                                 lambda_2[0][0]                   \n__________________________________________________________________________________________________\ndense_2 (Dense)                 (None, 3)            195         lstm_6[0][0]                     \n==================================================================================================\nTotal params: 2,604,789\nTrainable params: 2,604,789\nNon-trainable params: 0\n__________________________________________________________________________________________________\n",
          "output_type": "stream"
        }
      ]
    },
    {
      "cell_type": "code",
      "source": [
        "tf.random.set_seed(123)\n",
        "\n",
        "\n",
        "early_stopping_cb = tf.keras.callbacks.EarlyStopping(patience=5,restore_best_weights=True)\n",
        "checkpoint_cb = keras.callbacks.ModelCheckpoint(\"model6.h5\",save_best_only=True)\n",
        "history = model.fit(X_train, y_train, validation_data=(X_valid, y_valid),callbacks=[early_stopping_cb,checkpoint_cb], epochs=30, verbose= 1)"
      ],
      "metadata": {
        "execution": {
          "iopub.status.busy": "2022-01-16T17:00:15.761305Z",
          "iopub.execute_input": "2022-01-16T17:00:15.764002Z",
          "iopub.status.idle": "2022-01-16T17:24:08.908946Z",
          "shell.execute_reply.started": "2022-01-16T17:00:15.763903Z",
          "shell.execute_reply": "2022-01-16T17:24:08.907869Z"
        },
        "trusted": true,
        "id": "rqb03HAw4IuF",
        "outputId": "ea8289ee-8981-4f74-bcbb-f1eeff9fe9be"
      },
      "execution_count": null,
      "outputs": [
        {
          "name": "stdout",
          "text": "Epoch 1/30\n1101/1101 [==============================] - 244s 216ms/step - loss: 0.8327 - accuracy: 0.6106 - val_loss: 0.7556 - val_accuracy: 0.6540\nEpoch 2/30\n1101/1101 [==============================] - 238s 216ms/step - loss: 0.6576 - accuracy: 0.7167 - val_loss: 0.7814 - val_accuracy: 0.6444\nEpoch 3/30\n1101/1101 [==============================] - 241s 219ms/step - loss: 0.5424 - accuracy: 0.7745 - val_loss: 0.8376 - val_accuracy: 0.6289\nEpoch 4/30\n1101/1101 [==============================] - 235s 214ms/step - loss: 0.4202 - accuracy: 0.8329 - val_loss: 0.9976 - val_accuracy: 0.6214\nEpoch 5/30\n1101/1101 [==============================] - 237s 215ms/step - loss: 0.3171 - accuracy: 0.8764 - val_loss: 1.1397 - val_accuracy: 0.6101\nEpoch 6/30\n1101/1101 [==============================] - 237s 215ms/step - loss: 0.2390 - accuracy: 0.9063 - val_loss: 1.4322 - val_accuracy: 0.6025\n",
          "output_type": "stream"
        }
      ]
    },
    {
      "cell_type": "code",
      "source": [
        "y_pre = model.predict(X_test)\n",
        "y_pre = np.argmax(y_pre,axis=1)\n",
        "from sklearn.metrics import classification_report\n",
        "report_test = classification_report(y_test,y_pre)\n",
        "print(report_test)"
      ],
      "metadata": {
        "execution": {
          "iopub.status.busy": "2022-01-16T17:24:08.910436Z",
          "iopub.execute_input": "2022-01-16T17:24:08.910748Z",
          "iopub.status.idle": "2022-01-16T17:24:31.511073Z",
          "shell.execute_reply.started": "2022-01-16T17:24:08.910687Z",
          "shell.execute_reply": "2022-01-16T17:24:31.510191Z"
        },
        "trusted": true,
        "id": "nfg2_i0A4IuF",
        "outputId": "afe2141e-a0f3-489e-f960-9aebc156005b"
      },
      "execution_count": null,
      "outputs": [
        {
          "name": "stdout",
          "text": "              precision    recall  f1-score   support\n\n           0       0.55      0.47      0.51      1543\n           1       0.64      0.72      0.68      4591\n           2       0.71      0.63      0.67      3933\n\n    accuracy                           0.65     10067\n   macro avg       0.63      0.61      0.62     10067\nweighted avg       0.65      0.65      0.65     10067\n\n",
          "output_type": "stream"
        }
      ]
    },
    {
      "cell_type": "markdown",
      "source": [
        "# Naive Bayes"
      ],
      "metadata": {
        "id": "WRwsg8T576-b"
      }
    },
    {
      "cell_type": "markdown",
      "source": [
        ""
      ],
      "metadata": {
        "id": "8p7quXIA9eEi"
      }
    },
    {
      "cell_type": "code",
      "execution_count": null,
      "metadata": {
        "id": "pmpazg1d9T0-"
      },
      "outputs": [],
      "source": [
        "import pandas as pd\n",
        "import numpy as np\n",
        "import csv\n",
        "\n",
        "import pandas as pd\n",
        "import numpy as np\n",
        "from csv import reader\n",
        "#import tensorflow as tf\n",
        "#from tensorflow import keras\n",
        "from tqdm import tqdm\n",
        "from sklearn.model_selection import train_test_split"
      ]
    },
    {
      "cell_type": "code",
      "execution_count": null,
      "metadata": {
        "id": "_wEsydRG9T0_"
      },
      "outputs": [],
      "source": [
        "\n",
        "#from google.colab import drive\n",
        "#drive.mount('/content/drive', force_remount=True)\n",
        "\n",
        "name_lst = ['twitter-2013dev-A.tsv', \n",
        "            'twitter-2013test-A.tsv', \n",
        "            'twitter-2013train-A.tsv',\n",
        "            'twitter-2014test-A.tsv',\n",
        "            'twitter-2014sarcasm-A.tsv',\n",
        "            'twitter-2015test-A.tsv',\n",
        "            'twitter-2015train-A.tsv', \n",
        "            'twitter-2016dev-A.tsv',\n",
        "            'twitter-2016devtest-A.tsv',\n",
        "            'twitter-2016test-A.tsv', \n",
        "            'twitter-2016train-A.tsv']\n",
        "\n",
        "\n",
        "data_array = []\n",
        "tot_tweet = 0\n",
        "for i in range(len(name_lst)):\n",
        "    with open( name_lst[i], 'r') as file:\n",
        "        tmp = reader(file, delimiter=\"\\t\")\n",
        "        if name_lst[i] == 'twitter-2016test-A.tsv':\n",
        "            for row in tmp:\n",
        "                data_array.append(row[:3])\n",
        "        else:\n",
        "            for row in tmp:\n",
        "                data_array.append(row)\n",
        "        \n",
        "data_array = np.array(data_array)"
      ]
    },
    {
      "cell_type": "code",
      "execution_count": null,
      "metadata": {
        "id": "EDAUTNV99T1A",
        "outputId": "3cf46eb0-c8cc-465d-e304-4f32b954d682"
      },
      "outputs": [
        {
          "name": "stderr",
          "output_type": "stream",
          "text": [
            "<ipython-input-3-660383b00217>:11: DeprecationWarning: invalid escape sequence '\\ '\n",
            "  data_array[i,2] = bytes(data_array[i,2], 'utf-8').decode('unicode-escape')\n",
            "<ipython-input-3-660383b00217>:11: DeprecationWarning: invalid escape sequence '\\m'\n",
            "  data_array[i,2] = bytes(data_array[i,2], 'utf-8').decode('unicode-escape')\n",
            "<ipython-input-3-660383b00217>:11: DeprecationWarning: invalid escape sequence '\\i'\n",
            "  data_array[i,2] = bytes(data_array[i,2], 'utf-8').decode('unicode-escape')\n",
            "<ipython-input-3-660383b00217>:11: DeprecationWarning: invalid escape sequence '\\('\n",
            "  data_array[i,2] = bytes(data_array[i,2], 'utf-8').decode('unicode-escape')\n",
            "<ipython-input-3-660383b00217>:11: DeprecationWarning: invalid escape sequence '\\o'\n",
            "  data_array[i,2] = bytes(data_array[i,2], 'utf-8').decode('unicode-escape')\n",
            "<ipython-input-3-660383b00217>:11: DeprecationWarning: invalid escape sequence '\\_'\n",
            "  data_array[i,2] = bytes(data_array[i,2], 'utf-8').decode('unicode-escape')\n",
            "<ipython-input-3-660383b00217>:11: DeprecationWarning: invalid escape sequence '\\/'\n",
            "  data_array[i,2] = bytes(data_array[i,2], 'utf-8').decode('unicode-escape')\n"
          ]
        },
        {
          "name": "stdout",
          "output_type": "stream",
          "text": [
            "22004\n",
            "23136\n",
            "25280\n"
          ]
        },
        {
          "name": "stderr",
          "output_type": "stream",
          "text": [
            "<ipython-input-3-660383b00217>:11: DeprecationWarning: invalid escape sequence '\\,'\n",
            "  data_array[i,2] = bytes(data_array[i,2], 'utf-8').decode('unicode-escape')\n",
            "<ipython-input-3-660383b00217>:11: DeprecationWarning: invalid escape sequence '\\l'\n",
            "  data_array[i,2] = bytes(data_array[i,2], 'utf-8').decode('unicode-escape')\n"
          ]
        }
      ],
      "source": [
        "# Convert unicode to string in python such as comma with unit code of \\\\u002c \n",
        "import html\n",
        "for i in range(len(data_array)):\n",
        "    try:\n",
        "        data_array[i,2] = html.unescape(data_array[i,2])\n",
        "    except:\n",
        "        print(i)\n",
        "        \n",
        "for i in range(len(data_array)):\n",
        "    try:\n",
        "        data_array[i,2] = bytes(data_array[i,2], 'utf-8').decode('unicode-escape')\n",
        "    except:\n",
        "        print(i)"
      ]
    },
    {
      "cell_type": "code",
      "execution_count": null,
      "metadata": {
        "id": "w5ZyrHY69T1A",
        "outputId": "d6cec2eb-452b-4ae3-fa1e-b855fe59c757"
      },
      "outputs": [
        {
          "name": "stderr",
          "output_type": "stream",
          "text": [
            " 42%|████▏     | 20934/50132 [00:00<00:01, 24156.58it/s]"
          ]
        },
        {
          "name": "stdout",
          "output_type": "stream",
          "text": [
            "hey it happens\n",
            "hey it happens\n",
            "hey it happens\n",
            "hey it happens\n",
            "hey it happens\n",
            "hey it happens\n",
            "hey it happens\n",
            "hey it happens\n",
            "hey it happens\n",
            "hey it happens\n",
            "hey it happens\n",
            "hey it happens\n",
            "hey it happens\n",
            "hey it happens\n",
            "hey it happens\n",
            "hey it happens\n",
            "hey it happens\n",
            "hey it happens\n",
            "hey it happens\n",
            "hey it happens\n",
            "hey it happens\n",
            "hey it happens\n",
            "hey it happens\n",
            "hey it happens\n",
            "hey it happens\n",
            "hey it happens\n",
            "hey it happens\n",
            "hey it happens\n",
            "hey it happens\n",
            "hey it happens\n",
            "hey it happens\n",
            "hey it happens\n",
            "hey it happens\n",
            "hey it happens\n",
            "hey it happens\n",
            "hey it happens\n",
            "hey it happens\n",
            "hey it happens\n"
          ]
        },
        {
          "name": "stderr",
          "output_type": "stream",
          "text": [
            " 95%|█████████▌| 47808/50132 [00:02<00:00, 21377.30it/s]"
          ]
        },
        {
          "name": "stdout",
          "output_type": "stream",
          "text": [
            "hey it happens\n",
            "hey it happens\n",
            "hey it happens\n",
            "hey it happens\n",
            "hey it happens\n"
          ]
        },
        {
          "name": "stderr",
          "output_type": "stream",
          "text": [
            "100%|██████████| 50132/50132 [00:02<00:00, 22086.58it/s]\n"
          ]
        }
      ],
      "source": [
        "data_array_final = []\n",
        "\n",
        "for i in tqdm(range(len(data_array))):\n",
        "  id = data_array[i][0]\n",
        "  attitude = data_array[i][1]\n",
        "  tweet = data_array[i][2]\n",
        "  check = tweet.split(\"\\n\")\n",
        "  if len(check) > 1:\n",
        "    print(\"hey it happens\")\n",
        "    tweet = check[0]\n",
        "    data_array_final.append([id,attitude,tweet])\n",
        "    for element in check[1:]:\n",
        "      a_row = element.split(\"\\t\")\n",
        "      data_array_final.append(a_row)\n",
        "      if len(a_row) !=3:\n",
        "        print(\"something goes wrong\", a_row)\n",
        "  else:\n",
        "    data_array_final.append([id,attitude,tweet])\n",
        "  \n",
        "\n",
        "data_array_final = np.array(data_array_final)"
      ]
    },
    {
      "cell_type": "code",
      "execution_count": null,
      "metadata": {
        "id": "SU1dQFGn9T1B",
        "outputId": "b59a062d-ca88-4f84-f79c-36faac511c8a"
      },
      "outputs": [
        {
          "data": {
            "text/plain": [
              "array(['264041328420204544', 'neutral',\n",
              "       '#Thailand Washington - US President Barack Obama vowed Wednesday as he visited storm-ravaged New Jersey shore to... http://t.co/Xzl4LFhs'],\n",
              "      dtype='<U148')"
            ]
          },
          "execution_count": 5,
          "metadata": {},
          "output_type": "execute_result"
        }
      ],
      "source": [
        "data_array_final[3]"
      ]
    },
    {
      "cell_type": "code",
      "execution_count": null,
      "metadata": {
        "id": "QAbPYGeQ9T1B",
        "outputId": "c0f40937-ad9d-4044-fac4-2c72bb296b82"
      },
      "outputs": [
        {
          "data": {
            "text/plain": [
              "array(['The tickets for the 2013 Australian Tour will be on sale on April 28th at 10am local time.',\n",
              "       'An absolute BOMB by Kris Bryant, his 15th HR on the year. #Cubs up 3-2 now on the #Giants. #SFvsCHC',\n",
              "       \"TOMORROW: Don't forget the Hume Brophy Annual #Healthcare Conference w/ Simmons & Simmons. Check out the agenda! | http://t.co/ENp8eQclS0\",\n",
              "       'Kira the 1st person to send me a Veteran Day text she just made me feel proud',\n",
              "       'Enjoying my 1st time on Caltrain - bikes on the 1st floor, passengers on the 2nd floor. http://t.co/QO2tAnKe',\n",
              "       \"If I'm not at the Chris brown concert next Tuesday I'm gonna be really really upset and I'm gonna blame George lol\",\n",
              "       \"Don't forget to tune in as Miss Iowa USA will represent the Hawkeye State during Sunday's Miss USA pageant: http://t.co/abM9iaS3B3\",\n",
              "       'Ted 2 was a great way to end my 25th. Was cool to see Toxie in the film',\n",
              "       '@h0tlikepayne: It’s #confirmed that you can listen to the deluxe version of TMH on ITunes 9pm GMT on Nov 5th, Monday.',\n",
              "       \"I told my mom I wanted to stay in a hotel for my 18th with people, but my birthdays on Valentine's :-)) lucky me\"],\n",
              "      dtype='<U148')"
            ]
          },
          "execution_count": 6,
          "metadata": {},
          "output_type": "execute_result"
        }
      ],
      "source": [
        "np.random.seed(123)\n",
        "\n",
        "subsample = np.random.randint(len(data_array_final), size= 10)\n",
        "\n",
        "data_array_final[subsample,2]"
      ]
    },
    {
      "cell_type": "code",
      "execution_count": null,
      "metadata": {
        "id": "iRPtFueT9T1B",
        "outputId": "27f3b49b-316b-4f64-dcd3-4c4262dfeef5"
      },
      "outputs": [
        {
          "data": {
            "text/html": [
              "<div>\n",
              "<style scoped>\n",
              "    .dataframe tbody tr th:only-of-type {\n",
              "        vertical-align: middle;\n",
              "    }\n",
              "\n",
              "    .dataframe tbody tr th {\n",
              "        vertical-align: top;\n",
              "    }\n",
              "\n",
              "    .dataframe thead th {\n",
              "        text-align: right;\n",
              "    }\n",
              "</style>\n",
              "<table border=\"1\" class=\"dataframe\">\n",
              "  <thead>\n",
              "    <tr style=\"text-align: right;\">\n",
              "      <th></th>\n",
              "      <th>index</th>\n",
              "      <th>sentiment</th>\n",
              "      <th>tweet</th>\n",
              "    </tr>\n",
              "  </thead>\n",
              "  <tbody>\n",
              "    <tr>\n",
              "      <th>0</th>\n",
              "      <td>260097528899452929</td>\n",
              "      <td>neutral</td>\n",
              "      <td>Won the match #getin . Plus, tomorrow is a ver...</td>\n",
              "    </tr>\n",
              "    <tr>\n",
              "      <th>1</th>\n",
              "      <td>263791921753882624</td>\n",
              "      <td>neutral</td>\n",
              "      <td>Some areas of New England could see the first ...</td>\n",
              "    </tr>\n",
              "    <tr>\n",
              "      <th>2</th>\n",
              "      <td>264194578381410304</td>\n",
              "      <td>negative</td>\n",
              "      <td>@francesco_con40 2nd worst QB. DEFINITELY Tony...</td>\n",
              "    </tr>\n",
              "    <tr>\n",
              "      <th>3</th>\n",
              "      <td>264041328420204544</td>\n",
              "      <td>neutral</td>\n",
              "      <td>#Thailand Washington - US President Barack Oba...</td>\n",
              "    </tr>\n",
              "    <tr>\n",
              "      <th>4</th>\n",
              "      <td>263816256640126976</td>\n",
              "      <td>neutral</td>\n",
              "      <td>Did y’all hear what Tony Romo dressed up as fo...</td>\n",
              "    </tr>\n",
              "  </tbody>\n",
              "</table>\n",
              "</div>"
            ],
            "text/plain": [
              "                index sentiment  \\\n",
              "0  260097528899452929   neutral   \n",
              "1  263791921753882624   neutral   \n",
              "2  264194578381410304  negative   \n",
              "3  264041328420204544   neutral   \n",
              "4  263816256640126976   neutral   \n",
              "\n",
              "                                               tweet  \n",
              "0  Won the match #getin . Plus, tomorrow is a ver...  \n",
              "1  Some areas of New England could see the first ...  \n",
              "2  @francesco_con40 2nd worst QB. DEFINITELY Tony...  \n",
              "3  #Thailand Washington - US President Barack Oba...  \n",
              "4  Did y’all hear what Tony Romo dressed up as fo...  "
            ]
          },
          "execution_count": 7,
          "metadata": {},
          "output_type": "execute_result"
        }
      ],
      "source": [
        "df=pd.DataFrame(data_array_final,columns=[\"index\",\"sentiment\",\"tweet\"])\n",
        "df.head()  # looking at data"
      ]
    },
    {
      "cell_type": "code",
      "execution_count": null,
      "metadata": {
        "id": "znI3qe_O9T1C",
        "outputId": "2f632b02-9e6e-4393-825b-4f01ca47c9e9"
      },
      "outputs": [
        {
          "name": "stdout",
          "output_type": "stream",
          "text": [
            "neutral     22591\n",
            "positive    19903\n",
            "negative     7840\n",
            "Name: sentiment, dtype: int64\n"
          ]
        }
      ],
      "source": [
        "print(df['sentiment'].value_counts())   ### totals for the different classes\n",
        "\n"
      ]
    },
    {
      "cell_type": "code",
      "execution_count": null,
      "metadata": {
        "id": "uCib9_fC9T1C",
        "outputId": "9a94c78a-0524-4fdb-8e57-2178e7a13b85"
      },
      "outputs": [
        {
          "name": "stderr",
          "output_type": "stream",
          "text": [
            "100%|██████████| 50334/50334 [04:37<00:00, 181.30it/s]\n"
          ]
        }
      ],
      "source": [
        "#import sys\n",
        "#!{sys.executable} -m pip install spacy\n",
        "\n",
        "### Pre-processing\n",
        "### tokenizing, lematizing, removing selected stop words, making lower case, \n",
        "## identifying URLs, removing punctuation\n",
        "\n",
        "import spacy\n",
        "nlp = spacy.load(\"en_core_web_sm\")\n",
        "\n",
        "sentences = df['tweet'] \n",
        "# we use the default stop words, but remove stop words that can indicate negative sentiment\n",
        "nlp.Defaults.stop_words -= {\"neither\",\"not\",\"no\",\"n't\",\"nor\",\"can't\",\"yet\",\"least\"}\n",
        "\n",
        "# Process the text\n",
        "\n",
        "sentence_tokenize = []   ### empty list to store tokenized sentences\n",
        "uq_words = set()         ### collecting list of unique words = total vocabulary\n",
        "\n",
        "for a_sen in tqdm(sentences):\n",
        "  a_sen = str(a_sen).lower()\n",
        "    \n",
        "# transform all words into lowercase\n",
        "\n",
        "  doc = nlp(a_sen)\n",
        "  tmp = []\n",
        "  for token in doc:\n",
        "    if token.like_url:\n",
        "      tmp.append(\"URL\")\n",
        "    elif token.is_punct:\n",
        "      continue\n",
        "    elif token.text[0] == \"@\":\n",
        "      continue\n",
        "    elif token.is_stop:\n",
        "      continue \n",
        "    else:\n",
        "      tmp.append(token.lemma_)\n",
        "      uq_words.add(token.lemma_)\n",
        "\n",
        "  sentence_tokenize.append(tmp)\n",
        "\n"
      ]
    },
    {
      "cell_type": "code",
      "execution_count": null,
      "metadata": {
        "id": "dVtsk9Sd9T1D",
        "outputId": "e0aa7865-c708-4fa9-9231-d3d8761a3220"
      },
      "outputs": [
        {
          "name": "stdout",
          "output_type": "stream",
          "text": [
            "[['sorry', 'heart', 'paris', 'no', 'long', 'available', 'rockwell', 'branch', '8587000', 'copy', 'transfer'], ['manchester', 'united', 'try', 'return', 'win', 'way', 'face', 'arsenal', 'premier', 'league', 'old', 'trafford', 'saturday'], ['go', 'bull', 'game', 'aaliyah', 'hope', 'thursday'], ['toon', 'fan', 'spare', 'ticket', 'anfield', 'sunday?wille', 'pay', 'extra', 'nufc'], ['louis', 'inspire', 'outfit', 'monday', 'zayn', 'inspire', 'outfit', 'today', '4/5', 'need', 'harry', ' ']]\n",
            "41921\n"
          ]
        }
      ],
      "source": [
        "print(sentence_tokenize[10:15]) # checking the output - sentences are nested lists of tokens\n",
        "print(len(uq_words))"
      ]
    },
    {
      "cell_type": "code",
      "execution_count": null,
      "metadata": {
        "id": "u_kJxbP-9T1D"
      },
      "outputs": [],
      "source": [
        "#print(nlp.Defaults.stop_words) # looking at stop words"
      ]
    },
    {
      "cell_type": "code",
      "execution_count": null,
      "metadata": {
        "id": "V2Cn35Td9T1D"
      },
      "outputs": [],
      "source": [
        "### create x and y \n",
        "X = sentence_tokenize\n",
        "Y = df['sentiment']\n"
      ]
    },
    {
      "cell_type": "code",
      "execution_count": null,
      "metadata": {
        "id": "pWkJDW-d9T1D"
      },
      "outputs": [],
      "source": [
        "#x_train, x_test,y_train, y_test = train_test_split(X,Y, test_size = 0.2, random_state=100)\n",
        "#print(len(y_train))\n",
        "#print(len(x_train))\n",
        "#print(len(y_test))\n",
        "#print(len(x_test))"
      ]
    },
    {
      "cell_type": "code",
      "execution_count": null,
      "metadata": {
        "id": "IPzrKHqb9T1E",
        "outputId": "f90d4fce-8c43-45dd-ed21-8562cc3daf12"
      },
      "outputs": [
        {
          "name": "stderr",
          "output_type": "stream",
          "text": [
            "100%|██████████| 4/4 [00:00<00:00, 38479.85it/s]"
          ]
        },
        {
          "name": "stdout",
          "output_type": "stream",
          "text": [
            "vocabulary:  ['hear', 'england', 'new', 'you', 'night', 'share', 'president', 'tuesday', 'like', 'obama', 'cause', 'bad', 'wednesday', 'dress', 'halloween', 'area', 'shore', 'throw', 'visit', 'ball', 'flake', 'definitely', 'tony', 'URL', '2nd', 'giant', 'team', 'vow', 'sunday', 'ravage', 'washington', 'jersey', 'man', 'qb', 'include', 'romo', 'barack', 'storm', 'quaterback', 'thailand', 'season']\n",
            "vectors: [[0, 1, 1, 0, 0, 0, 0, 1, 0, 0, 0, 0, 0, 0, 0, 1, 0, 0, 0, 0, 1, 0, 0, 0, 0, 0, 0, 0, 0, 0, 0, 0, 0, 0, 0, 0, 0, 0, 0, 0, 1], [0, 0, 0, 0, 0, 1, 0, 0, 1, 0, 0, 1, 0, 0, 0, 0, 0, 0, 0, 1, 0, 1, 1, 0, 1, 0, 1, 0, 0, 0, 0, 0, 1, 1, 1, 1, 0, 0, 0, 0, 0], [0, 0, 1, 0, 0, 0, 1, 0, 0, 1, 0, 0, 1, 0, 0, 0, 1, 0, 1, 0, 0, 0, 0, 1, 0, 0, 0, 1, 0, 1, 1, 1, 0, 0, 0, 0, 1, 1, 0, 1, 0], [1, 0, 0, 1, 1, 0, 0, 0, 0, 0, 1, 0, 0, 1, 1, 0, 0, 1, 0, 0, 0, 0, 1, 0, 0, 1, 0, 0, 1, 0, 0, 0, 0, 0, 0, 1, 0, 0, 1, 0, 0]]\n"
          ]
        },
        {
          "name": "stderr",
          "output_type": "stream",
          "text": [
            "\n"
          ]
        }
      ],
      "source": [
        "### BOW practice - 5 tweets\n",
        "\n",
        "words = list(set([word for tweet in X[1:5] for word in tweet]))\n",
        "vectors = []\n",
        "\n",
        "for tweet in tqdm(X[1:5]):\n",
        "    vectors.append([1 if word in tweet else 0 for word in words])\n",
        "print(\"vocabulary: \", words)   \n",
        "print(\"vectors:\", vectors)\n",
        "\n",
        "\n"
      ]
    },
    {
      "cell_type": "code",
      "execution_count": null,
      "metadata": {
        "id": "jFvfPgOl9T1E"
      },
      "outputs": [],
      "source": [
        ""
      ]
    },
    {
      "cell_type": "code",
      "execution_count": null,
      "metadata": {
        "scrolled": false,
        "id": "p967ZEt99T1E",
        "outputId": "b92c9d4f-7026-4fef-9910-cf3958602516"
      },
      "outputs": [
        {
          "name": "stderr",
          "output_type": "stream",
          "text": [
            "100%|██████████| 50334/50334 [09:49<00:00, 85.40it/s] \n"
          ]
        }
      ],
      "source": [
        "#BOW full dataset - we create BOW over the full vocabulary before splitting into test and train\n",
        "\n",
        "words = list(set([word for tweet in X for word in tweet]))\n",
        "all_vectors = []\n",
        "\n",
        "for tweet in tqdm(X):\n",
        "    all_vectors.append([1 if word in tweet else 0 for word in words])\n"
      ]
    },
    {
      "cell_type": "code",
      "execution_count": null,
      "metadata": {
        "id": "erJHrK3u9T1E",
        "outputId": "7713f5ec-02fa-444f-ef3b-bd80460a4e37"
      },
      "outputs": [
        {
          "name": "stdout",
          "output_type": "stream",
          "text": [
            "40267\n",
            "40267\n",
            "10067\n"
          ]
        }
      ],
      "source": [
        "\n",
        "x_train, x_test,y_train, y_test = train_test_split(all_vectors,Y, test_size = 0.2, random_state=100)\n",
        "print(len(y_train))\n",
        "print(len(x_train))\n",
        "print(len(y_test))\n"
      ]
    },
    {
      "cell_type": "code",
      "execution_count": null,
      "metadata": {
        "id": "xpxRnXyn9T1F"
      },
      "outputs": [],
      "source": [
        "### Multinomial NB - Vanilla :-) - full dataset ~ 40,000 words\n",
        "from sklearn.naive_bayes import MultinomialNB   \n",
        "nb = MultinomialNB()\n",
        "nb = nb.fit(x_train, y_train)\n"
      ]
    },
    {
      "cell_type": "code",
      "execution_count": null,
      "metadata": {
        "scrolled": true,
        "id": "SbmApUok9T1F",
        "outputId": "8bf4455c-3701-46ce-9fb4-403b8cc349b6"
      },
      "outputs": [
        {
          "name": "stdout",
          "output_type": "stream",
          "text": [
            "              precision    recall  f1-score   support\n",
            "\n",
            "    negative       0.56      0.32      0.41      1599\n",
            "     neutral       0.62      0.63      0.62      4463\n",
            "    positive       0.62      0.72      0.67      4005\n",
            "\n",
            "    accuracy                           0.62     10067\n",
            "   macro avg       0.60      0.56      0.57     10067\n",
            "weighted avg       0.61      0.62      0.61     10067\n",
            "\n"
          ]
        }
      ],
      "source": [
        "### performance on test set\n",
        "from sklearn import metrics\n",
        "y_pred_test = nb.predict(x_test)\n",
        "report_test = metrics.classification_report(y_test,y_pred_test)\n",
        "print(report_test)"
      ]
    },
    {
      "cell_type": "code",
      "execution_count": null,
      "metadata": {
        "id": "WXkiVWc59T1F",
        "outputId": "56e52ed8-8da7-4a10-a811-96ee445bfc5e"
      },
      "outputs": [
        {
          "data": {
            "text/plain": [
              "array([[ 515,  686,  398],\n",
              "       [ 304, 2802, 1357],\n",
              "       [  94, 1018, 2893]])"
            ]
          },
          "execution_count": 22,
          "metadata": {},
          "output_type": "execute_result"
        }
      ],
      "source": [
        "import seaborn as sns\n",
        "from matplotlib import pyplot as plt\n",
        "\n",
        "cm_test = metrics.confusion_matrix(y_test,y_pred_test)\n",
        "cm_test"
      ]
    },
    {
      "cell_type": "code",
      "execution_count": null,
      "metadata": {
        "id": "EgRmF8yo9T1F",
        "outputId": "537ecad2-da02-4020-cec5-a2b673e38c8c"
      },
      "outputs": [
        {
          "data": {
            "image/png": "[encoded data removed]",
            "text/plain": [
              "<Figure size 504x360 with 2 Axes>"
            ]
          },
          "metadata": {
            "needs_background": "light"
          },
          "output_type": "display_data"
        }
      ],
      "source": [
        "plt.figure(figsize = (7,5))\n",
        "ax= plt.subplot()\n",
        "sns.set(font_scale=1.8)\n",
        "sns.heatmap(cm_test, annot=True, fmt = 'g', cmap = 'Blues', ax = ax); #annot=True to annotate cells\n",
        "ax.set_xlabel('Predicted sentiment');ax.set_ylabel('True sentiment'); \n",
        "ax.set_title('Confusion Matrix (test)'); \n",
        "ax.xaxis.set_ticklabels(['negative','neutral','positive']); \n",
        "ax.yaxis.set_ticklabels(['negative','neutral','positive']);\n",
        "plt.show()\n"
      ]
    },
    {
      "cell_type": "markdown",
      "metadata": {
        "id": "mTfpycBx9T1G"
      },
      "source": [
        "#### RUNNING AGAIN WITH FREQUENCY 1 removed"
      ]
    },
    {
      "cell_type": "code",
      "execution_count": null,
      "metadata": {
        "id": "Xbtw2zSy9T1H"
      },
      "outputs": [],
      "source": [
        "import pickle\n",
        "\n",
        "with open('tokenized_sens .pickle', 'rb') as handle:\n",
        "    sentences = pickle.load(handle)\n",
        "with open('y_new.pickle', 'rb') as handle:\n",
        "    y_new = pickle.load(handle)"
      ]
    },
    {
      "cell_type": "code",
      "execution_count": null,
      "metadata": {
        "id": "3rutgNoX9T1H",
        "outputId": "3060a992-ad63-4c4b-cdec-10e2ea50e91e"
      },
      "outputs": [
        {
          "data": {
            "text/plain": [
              "['tina',\n",
              " 'fey',\n",
              " 'amy',\n",
              " 'poehler',\n",
              " 'host',\n",
              " 'golden',\n",
              " 'globe',\n",
              " 'award',\n",
              " 'january',\n",
              " '13',\n",
              " 'think']"
            ]
          },
          "execution_count": 25,
          "metadata": {},
          "output_type": "execute_result"
        }
      ],
      "source": [
        "sentences[7]"
      ]
    },
    {
      "cell_type": "code",
      "execution_count": null,
      "metadata": {
        "id": "ltXMxjrP9T1H",
        "outputId": "5a40b677-1f5d-4a80-8057-815023e8c1ac"
      },
      "outputs": [
        {
          "data": {
            "text/plain": [
              "17841"
            ]
          },
          "execution_count": 26,
          "metadata": {},
          "output_type": "execute_result"
        }
      ],
      "source": [
        "from collections import Counter\n",
        "vocabulary = Counter()\n",
        "for review in sentences: \n",
        "    vocabulary.update(review)\n",
        "vocabulary = [word for word, count in vocabulary.most_common()]\n",
        "len(vocabulary)"
      ]
    },
    {
      "cell_type": "code",
      "execution_count": null,
      "metadata": {
        "id": "3gKFJG7a9T1H",
        "outputId": "36bc628e-d587-40db-fab2-e4d0fc856e14"
      },
      "outputs": [
        {
          "name": "stderr",
          "output_type": "stream",
          "text": [
            "100%|██████████| 50333/50333 [03:18<00:00, 253.76it/s]\n"
          ]
        }
      ],
      "source": [
        "### BOW for reduced (no singletons!) dataset\n",
        "words = list(set([word for tweet in sentences for word in tweet]))\n",
        "all_vectors = []\n",
        "\n",
        "for tweet in tqdm(sentences):\n",
        "    all_vectors.append([1 if word in tweet else 0 for word in words])"
      ]
    },
    {
      "cell_type": "code",
      "execution_count": null,
      "metadata": {
        "id": "LSXiQqwZ9T1H"
      },
      "outputs": [],
      "source": [
        "x_train, x_test,y_train, y_test = train_test_split(all_vectors,y_new, test_size = 0.2, random_state=100)\n"
      ]
    },
    {
      "cell_type": "code",
      "execution_count": null,
      "metadata": {
        "id": "DPH8Mq1k9T1I"
      },
      "outputs": [],
      "source": [
        "### Multinomial NB - reduced dataset ~ 40,000 words\n",
        "from sklearn.naive_bayes import MultinomialNB \n",
        "\n",
        "nb = MultinomialNB()\n",
        "nb = nb.fit(x_train, y_train)"
      ]
    },
    {
      "cell_type": "code",
      "execution_count": null,
      "metadata": {
        "id": "q-TQbi7S9T1I",
        "outputId": "41e09aee-b24b-44e3-bd26-fdb339f2c907"
      },
      "outputs": [
        {
          "name": "stdout",
          "output_type": "stream",
          "text": [
            "              precision    recall  f1-score   support\n",
            "\n",
            "           0       0.54      0.45      0.49      1597\n",
            "           1       0.64      0.59      0.61      4469\n",
            "           2       0.62      0.72      0.67      4001\n",
            "\n",
            "    accuracy                           0.62     10067\n",
            "   macro avg       0.60      0.59      0.59     10067\n",
            "weighted avg       0.62      0.62      0.61     10067\n",
            "\n"
          ]
        }
      ],
      "source": [
        "### performance on test set\n",
        "from sklearn import metrics\n",
        "y_pred_test = nb.predict(x_test)\n",
        "report_test = metrics.classification_report(y_test,y_pred_test)\n",
        "print(report_test)"
      ]
    },
    {
      "cell_type": "code",
      "execution_count": null,
      "metadata": {
        "id": "16D-Q1-e9T1I",
        "outputId": "89103c1e-073c-4720-978a-fa0dac0d1784"
      },
      "outputs": [
        {
          "data": {
            "text/plain": [
              "array([[ 724,  527,  346],\n",
              "       [ 464, 2624, 1381],\n",
              "       [ 164,  965, 2872]])"
            ]
          },
          "execution_count": 31,
          "metadata": {},
          "output_type": "execute_result"
        }
      ],
      "source": [
        "cm_test = metrics.confusion_matrix(y_test,y_pred_test)\n",
        "cm_test"
      ]
    },
    {
      "cell_type": "code",
      "execution_count": null,
      "metadata": {
        "id": "GtBh8jW09T1I",
        "outputId": "2f45e824-86d4-4965-e336-d5f5704f5431"
      },
      "outputs": [
        {
          "data": {
            "image/png": "[encoded data removed]",
            "text/plain": [
              "<Figure size 504x360 with 2 Axes>"
            ]
          },
          "metadata": {},
          "output_type": "display_data"
        }
      ],
      "source": [
        "plt.figure(figsize = (7,5))\n",
        "ax= plt.subplot()\n",
        "sns.set(font_scale=1.8)\n",
        "sns.heatmap(cm_test, annot=True, fmt = 'g', cmap = 'Blues', ax = ax); #annot=True to annotate cells\n",
        "ax.set_xlabel('Predicted sentiment');ax.set_ylabel('True sentiment'); \n",
        "ax.set_title('Confusion Matrix (test)'); \n",
        "ax.xaxis.set_ticklabels(['negative','neutral','positive']); \n",
        "ax.yaxis.set_ticklabels(['negative','neutral','positive']);\n",
        "plt.show()"
      ]
    },
    {
      "cell_type": "code",
      "execution_count": null,
      "metadata": {
        "id": "M3oZ3bAl9T1I",
        "outputId": "c8a3b843-bb6a-498a-f98a-d93803ac7f57"
      },
      "outputs": [
        {
          "name": "stdout",
          "output_type": "stream",
          "text": [
            "              precision    recall  f1-score   support\n",
            "\n",
            "           0       0.68      0.61      0.64      6243\n",
            "           1       0.76      0.70      0.73     18121\n",
            "           2       0.71      0.81      0.76     15902\n",
            "\n",
            "    accuracy                           0.73     40266\n",
            "   macro avg       0.72      0.71      0.71     40266\n",
            "weighted avg       0.73      0.73      0.73     40266\n",
            "\n"
          ]
        }
      ],
      "source": [
        "### performance on training set - are we overfitting?\n",
        "\n",
        "y_pred_train = nb.predict(x_train)\n",
        "report_train = metrics.classification_report(y_train,y_pred_train)\n",
        "print(report_train)"
      ]
    },
    {
      "cell_type": "code",
      "execution_count": null,
      "metadata": {
        "id": "D2JK2Oxy9T1I",
        "outputId": "9f74fc18-d457-4da0-c1cb-ef982eb37acb"
      },
      "outputs": [
        {
          "data": {
            "text/plain": [
              "array([[ 3782,  1366,  1095],\n",
              "       [ 1345, 12748,  4028],\n",
              "       [  454,  2633, 12815]])"
            ]
          },
          "execution_count": 34,
          "metadata": {},
          "output_type": "execute_result"
        }
      ],
      "source": [
        "cm_train = metrics.confusion_matrix(y_train,y_pred_train)\n",
        "cm_train"
      ]
    },
    {
      "cell_type": "code",
      "execution_count": null,
      "metadata": {
        "id": "jrPEpn2i9T1J",
        "outputId": "172ff783-349a-4ce6-d2a8-3c3a62f6e9d1"
      },
      "outputs": [
        {
          "data": {
            "image/png": "[encoded data removed]",
            "text/plain": [
              "<Figure size 504x360 with 2 Axes>"
            ]
          },
          "metadata": {},
          "output_type": "display_data"
        }
      ],
      "source": [
        "plt.figure(figsize = (7,5))\n",
        "ax= plt.subplot()\n",
        "sns.set(font_scale=1.8)\n",
        "sns.heatmap(cm_train, annot=True, fmt = 'g', cmap = 'Blues', ax = ax); #annot=True to annotate cells\n",
        "ax.set_xlabel('Predicted sentiment');ax.set_ylabel('True sentiment'); \n",
        "ax.set_title('Confusion Matrix (train)'); \n",
        "ax.xaxis.set_ticklabels(['negative','neutral','positive']); \n",
        "ax.yaxis.set_ticklabels(['negative','neutral','positive']);\n",
        "plt.show()"
      ]
    },
    {
      "cell_type": "markdown",
      "metadata": {
        "id": "pyfyjoGz9T1J"
      },
      "source": [
        "### RF - worse performance than Naïve Bayes - only finds the largest class"
      ]
    },
    {
      "cell_type": "code",
      "execution_count": null,
      "metadata": {
        "id": "W6FKYlci9T1J"
      },
      "outputs": [],
      "source": [
        "from sklearn.ensemble import RandomForestClassifier\n",
        "clf = RandomForestClassifier(max_depth=2, random_state=10)\n",
        "clf.fit(x_train,y_train)\n",
        "y_pred_test = clf.predict(x_test)\n",
        "report_test = metrics.classification_report(y_test,y_pred_test)\n",
        "print(report_test)"
      ]
    },
    {
      "cell_type": "markdown",
      "metadata": {
        "id": "TK_WT0LF9T1J"
      },
      "source": [
        ""
      ]
    },
    {
      "cell_type": "markdown",
      "metadata": {
        "id": "j8ZkUCfk7Kvr"
      },
      "source": [
        ""
      ]
    }
  ],
  "metadata": {
    "orig_nbformat": 4,
    "language_info": {
      "name": "python",
      "version": "3.8.2",
      "mimetype": "text/x-python",
      "codemirror_mode": {
        "name": "ipython",
        "version": 3
      },
      "pygments_lexer": "ipython3",
      "nbconvert_exporter": "python",
      "file_extension": ".py"
    },
    "kernelspec": {
      "name": "python3",
      "display_name": "Python 3.8.2 64-bit"
    },
    "interpreter": {
      "hash": "aee8b7b246df8f9039afb4144a1f6fd8d2ca17a180786b69acc140d282b71a49"
    },
    "colab": {
      "name": "TextMining_A3.ipynb.ipynb",
      "provenance": [],
      "collapsed_sections": [],
      "toc_visible": true
    },
    "accelerator": "GPU"
  },
  "nbformat": 4,
  "nbformat_minor": 0
}